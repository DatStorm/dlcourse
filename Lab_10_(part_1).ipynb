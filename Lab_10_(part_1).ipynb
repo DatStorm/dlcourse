{
  "nbformat": 4,
  "nbformat_minor": 0,
  "metadata": {
    "colab": {
      "name": "Lab 10 (part 1)",
      "provenance": [],
      "collapsed_sections": [],
      "toc_visible": true
    },
    "kernelspec": {
      "name": "python3",
      "display_name": "Python 3"
    },
    "accelerator": "GPU"
  },
  "cells": [
    {
      "cell_type": "markdown",
      "metadata": {
        "id": "REaV1GblZovs",
        "colab_type": "text"
      },
      "source": [
        "#Visualizing and understanding ConvNets (part 1)\n",
        "In this Lab we will be experimenting with techniques for visualizing and understanding ConvNets.\n",
        "\n",
        "The first part (part 1) is about simple visualization techniques:\n",
        "\n",
        "- Visualizing layer activations\n",
        "- Visualizing filters\n",
        "- Inspecting fully connected layers\n",
        "- Feature visualizing using dimensionality reduction\n",
        "\n",
        "Much of part 1 will be a recap of [Lab 2](https://github.com/aivclab/dlcourse/blob/master/Lab2_FeatureExtractionAndTransferLearning.ipynb\n",
        "), so you can skip it or save it for later and start with part 2 and part 3.\n",
        "\n",
        "**Before we start - remember to set runtime to GPU**"
      ]
    },
    {
      "cell_type": "markdown",
      "metadata": {
        "id": "VSIpfu6wUG1r",
        "colab_type": "text"
      },
      "source": [
        "**NOTE:** In case you have trouble running Keras/TensorFlow in Colab, try one of the following:"
      ]
    },
    {
      "cell_type": "code",
      "metadata": {
        "id": "fZ01fAojUGCV",
        "colab_type": "code",
        "colab": {}
      },
      "source": [
        "# Try this\n",
        "#!pip install --upgrade tensorflow==1.8.0\n",
        "\n",
        "# ... or this\n",
        "%tensorflow_version 1.x\n",
        "\n",
        "# Check TensorFlow version\n",
        "#import tensorflow as tf\n",
        "#print(tf.__version__)"
      ],
      "execution_count": 0,
      "outputs": []
    },
    {
      "cell_type": "markdown",
      "metadata": {
        "id": "nULbPEJotF__",
        "colab_type": "text"
      },
      "source": [
        "##Mount your Google Drive"
      ]
    },
    {
      "cell_type": "code",
      "metadata": {
        "id": "6OPAkRmltJxD",
        "colab_type": "code",
        "outputId": "dbb7ed85-2f6f-42b3-afae-9df03de90e7c",
        "colab": {
          "base_uri": "https://localhost:8080/",
          "height": 128
        }
      },
      "source": [
        "from google.colab import drive\n",
        "drive.mount('/content/gdrive')"
      ],
      "execution_count": 0,
      "outputs": [
        {
          "output_type": "stream",
          "text": [
            "Go to this URL in a browser: https://accounts.google.com/o/oauth2/auth?client_id=947318989803-6bn6qk8qdgf4n4g3pfee6491hc0brc4i.apps.googleusercontent.com&redirect_uri=urn%3aietf%3awg%3aoauth%3a2.0%3aoob&response_type=code&scope=email%20https%3a%2f%2fwww.googleapis.com%2fauth%2fdocs.test%20https%3a%2f%2fwww.googleapis.com%2fauth%2fdrive%20https%3a%2f%2fwww.googleapis.com%2fauth%2fdrive.photos.readonly%20https%3a%2f%2fwww.googleapis.com%2fauth%2fpeopleapi.readonly\n",
            "\n",
            "Enter your authorization code:\n",
            "··········\n",
            "Mounted at /content/gdrive\n"
          ],
          "name": "stdout"
        }
      ]
    },
    {
      "cell_type": "markdown",
      "metadata": {
        "id": "nw0XHKFDtVsM",
        "colab_type": "text"
      },
      "source": [
        "## Download a test image\n",
        "Lets download an image to work on:"
      ]
    },
    {
      "cell_type": "code",
      "metadata": {
        "id": "Ir27Fu-DtVNV",
        "colab_type": "code",
        "outputId": "020611a3-501f-4fe1-f2e9-1f5e494869a1",
        "colab": {
          "base_uri": "https://localhost:8080/",
          "height": 35
        }
      },
      "source": [
        "import urllib.request\n",
        "\n",
        "url = \"https://github.com/aivclab/dlcourse/raw/master/data/cat.jpg\"\n",
        "urllib.request.urlretrieve(url,'/content/gdrive/My Drive/cat.jpg')\n",
        "\n",
        "# Check that the file is in your Drive\n",
        "!ls \"/content/gdrive/My Drive/cat.jpg\""
      ],
      "execution_count": 0,
      "outputs": [
        {
          "output_type": "stream",
          "text": [
            "'/content/gdrive/My Drive/cat.jpg'\n"
          ],
          "name": "stdout"
        }
      ]
    },
    {
      "cell_type": "markdown",
      "metadata": {
        "id": "CO1eegnUt3ws",
        "colab_type": "text"
      },
      "source": [
        "Display"
      ]
    },
    {
      "cell_type": "code",
      "metadata": {
        "id": "mfM5qISTtc0N",
        "colab_type": "code",
        "outputId": "e77a8e17-cfc8-499c-9bdb-54ea20d15a79",
        "colab": {
          "base_uri": "https://localhost:8080/",
          "height": 287
        }
      },
      "source": [
        "import cv2\n",
        "import numpy as np\n",
        "import matplotlib.pyplot as plt\n",
        "\n",
        "# Read image using OpenCV\n",
        "img_path = '/content/gdrive/My Drive/cat.jpg'\n",
        "img = cv2.imread(img_path) #<your code goes here>\n",
        "b,g,r = cv2.split(img)\n",
        "rgb = cv2.merge((r,g,b))\n",
        "plt.imshow(rgb)"
      ],
      "execution_count": 0,
      "outputs": [
        {
          "output_type": "execute_result",
          "data": {
            "text/plain": [
              "<matplotlib.image.AxesImage at 0x7fa8cff72898>"
            ]
          },
          "metadata": {
            "tags": []
          },
          "execution_count": 4
        },
        {
          "output_type": "display_data",
          "data": {
            "image/png": "[encoded data removed]",
            "text/plain": [
              "<Figure size 432x288 with 1 Axes>"
            ]
          },
          "metadata": {
            "tags": []
          }
        }
      ]
    },
    {
      "cell_type": "markdown",
      "metadata": {
        "id": "pkrSlM7_t8YG",
        "colab_type": "text"
      },
      "source": [
        "## Set up VGG16\n",
        "First, let's download and instantiate a pre-trained VGG16 network including the top layers:"
      ]
    },
    {
      "cell_type": "code",
      "metadata": {
        "id": "rWbUI5m4t7W9",
        "colab_type": "code",
        "colab": {}
      },
      "source": [
        "from keras.applications import VGG16\n",
        "from keras.utils import plot_model\n",
        "\n",
        "vgg16_full = VGG16(weights='imagenet',\n",
        "                      include_top=True,\n",
        "                      input_shape=(224, 224, 3))\n",
        "\n",
        "plot_model(vgg16_full,show_shapes=True,show_layer_names=True)"
      ],
      "execution_count": 0,
      "outputs": []
    },
    {
      "cell_type": "markdown",
      "metadata": {
        "id": "H4XJ0stZuWGo",
        "colab_type": "text"
      },
      "source": [
        "Preprocess the image (in the case of VGG16, Keras subtracts the channel-wise mean [103.939, 116.779, 123.68]): "
      ]
    },
    {
      "cell_type": "code",
      "metadata": {
        "id": "z1VWU8vNvC0t",
        "colab_type": "code",
        "colab": {}
      },
      "source": [
        "from keras.preprocessing import image\n",
        "from keras.applications.vgg16 import preprocess_input\n",
        "\n",
        "img = image.load_img(img_path, target_size=(224, 224))\n",
        "img_data = image.img_to_array(img)\n",
        "img_data = np.expand_dims(img_data, axis=0)\n",
        "img_preprocessed = preprocess_input(img_data.copy())\n",
        "\n",
        "# Range before preprocessing\n",
        "print('np.min(img_data)',np.min(img_data))\n",
        "print('np.max(img_data)',np.max(img_data))\n",
        "\n",
        "# Range after preprocessing\n",
        "print('np.min(img_preprocessed)',np.min(img_preprocessed))\n",
        "print('np.max(img_preprocessed)',np.max(img_preprocessed))\n",
        "\n",
        "# Shapes\n",
        "print('img_preprocessed.shape',img_preprocessed.shape)\n",
        "\n",
        "plt.figure(figsize=(8,10))\n",
        "plt.subplot(311); plt.imshow(img_data.squeeze()/255); plt.title('Before preprocessing');\n",
        "plt.subplot(312); plt.imshow(img_preprocessed.squeeze()/255); plt.title('After preprocessing (positive values only)');\n",
        "plt.subplot(313); plt.imshow(-img_preprocessed.squeeze()/255); plt.title('After preprocessing (negative values only)');"
      ],
      "execution_count": 0,
      "outputs": []
    },
    {
      "cell_type": "markdown",
      "metadata": {
        "id": "dd1DIJpYwAN2",
        "colab_type": "text"
      },
      "source": [
        "## Classifiy test image"
      ]
    },
    {
      "cell_type": "code",
      "metadata": {
        "id": "Y6fJDZB6wnKV",
        "colab_type": "code",
        "colab": {}
      },
      "source": [
        "from keras.applications.imagenet_utils import decode_predictions\n",
        "\n",
        "predictions = vgg16_full.predict(img_preprocessed)\n",
        "print('predictions.shape',predictions.shape)  \n",
        "\n",
        "labels = decode_predictions(predictions)\n",
        "[print(name,prob) for code, name, prob in labels[0]]"
      ],
      "execution_count": 0,
      "outputs": []
    },
    {
      "cell_type": "markdown",
      "metadata": {
        "id": "5Vj0XTG4wbKE",
        "colab_type": "text"
      },
      "source": [
        "###Task\n",
        "1. Assuming that the correct class is `tiger_cat`, what is the class index (i.e., the index of `predictions` that correspond to `tiger_cat`)?"
      ]
    },
    {
      "cell_type": "code",
      "metadata": {
        "id": "-ov4FLmBwtSU",
        "colab_type": "code",
        "colab": {}
      },
      "source": [
        "class_index = ???"
      ],
      "execution_count": 0,
      "outputs": []
    },
    {
      "cell_type": "markdown",
      "metadata": {
        "id": "xz1n92eEw4p4",
        "colab_type": "text"
      },
      "source": [
        "## Visualizing layer activations\n",
        "Show stats about convolution layers:"
      ]
    },
    {
      "cell_type": "code",
      "metadata": {
        "id": "Oc0m0ykBw5nd",
        "colab_type": "code",
        "colab": {}
      },
      "source": [
        "for i, layer in enumerate(vgg16_full.layers):\n",
        "  \n",
        "  # check for convolutional layer\n",
        "  layer_type = layer.__class__.__name__\n",
        "  \n",
        "  if 'Conv' not in layer_type:\n",
        "    continue\n",
        "  \n",
        "  # get filter weights\n",
        "  layer_name = layer.name\n",
        "  input_shape = layer.input_shape\n",
        "  output_shape = layer.output.shape\n",
        "  filter_shape = layer.get_weights()[0].shape\n",
        "  \n",
        "  print(f\"Layer {i} has name {layer_name}, input shape {input_shape}, filter shape {filter_shape}, and output shape {output_shape}\")"
      ],
      "execution_count": 0,
      "outputs": []
    },
    {
      "cell_type": "markdown",
      "metadata": {
        "id": "9fu4o83vxIhW",
        "colab_type": "text"
      },
      "source": [
        "Get filters of `block1_conv1` and display them:"
      ]
    },
    {
      "cell_type": "code",
      "metadata": {
        "id": "UJk1_F2qxpKE",
        "colab_type": "code",
        "colab": {}
      },
      "source": [
        "layer = vgg16_full.get_layer('block1_conv1')\n",
        "filters = layer.get_weights()\n",
        "plt.figure(figsize=(8,8))\n",
        "for i in range(64):\n",
        "  f = filters[0][:,:,:,i]\n",
        "  \n",
        "  # Normalize to range 0 ... 1\n",
        "  f -= f.min()\n",
        "  f /= f.max()\n",
        "  \n",
        "  plt.subplot(8,8,i+1)\n",
        "  plt.imshow(f)\n",
        "  plt.title(str(i))"
      ],
      "execution_count": 0,
      "outputs": []
    },
    {
      "cell_type": "markdown",
      "metadata": {
        "id": "LerIYeD_xff0",
        "colab_type": "text"
      },
      "source": [
        "###Questions\n",
        "1. When displaying filters, what should you be looking for?\n",
        "2. How would you visualize the filters of the last conv layer?"
      ]
    },
    {
      "cell_type": "markdown",
      "metadata": {
        "id": "AnH-WNOUyA7r",
        "colab_type": "text"
      },
      "source": [
        "##Visualizing layer activations\n",
        "Let's visualize the activations of the second conv layer in the first block:"
      ]
    },
    {
      "cell_type": "code",
      "metadata": {
        "id": "5vUYMEehxy38",
        "colab_type": "code",
        "colab": {}
      },
      "source": [
        "from keras import Model\n",
        "dummy_model = Model(inputs=vgg16_full.input, outputs=vgg16_full.get_layer('block1_conv2').output) # See conv_base.summary() for complete list of layer names\n",
        "out = dummy_model.predict(img_preprocessed)\n",
        "out = out.squeeze()\n",
        "\n",
        "plt.figure(figsize=(16,16))\n",
        "for i in range(64):\n",
        "  f = out[:,:,i]\n",
        "  plt.subplot(8,8,i+1)\n",
        "  plt.imshow(f)\n",
        "  plt.title(\"{0:.2f}\".format(f.min()) + \"/\" + \"{0:.2f}\".format(f.max()))"
      ],
      "execution_count": 0,
      "outputs": []
    },
    {
      "cell_type": "markdown",
      "metadata": {
        "id": "RYC7J4RxyZiv",
        "colab_type": "text"
      },
      "source": [
        "###Questions\n",
        "1. What features are detected by this layer?\n",
        "2. Can you say something about which features are detected by the last convoution layer (block 5 conv 2)?"
      ]
    },
    {
      "cell_type": "markdown",
      "metadata": {
        "id": "JnwHX9dczdvS",
        "colab_type": "text"
      },
      "source": [
        "##Download more test images\n",
        "Download csv files with URLs:"
      ]
    },
    {
      "cell_type": "code",
      "metadata": {
        "id": "mC1CPlNKyM2e",
        "colab_type": "code",
        "colab": {}
      },
      "source": [
        "from pathlib import Path\n",
        "\n",
        "root = '/content/gdrive/My Drive/' # Don't change this\n",
        "data_dirname = 'data' # Change as you like\n",
        "p = Path(root + data_dirname)\n",
        "p.mkdir(exist_ok=True)\n",
        "\n",
        "classes = ['bird','cat','cows','dog','horse','mouse','pig','sheep']\n",
        "for idx, name in enumerate(classes):\n",
        "  print(name)\n",
        "  folder = name\n",
        "  file = name + '.csv'\n",
        "  url = 'https://raw.githubusercontent.com/klaverhenrik/klaverhenrik.github.io/master/transferlearning/examples/' + name + '.csv'\n",
        "  urllib.request.urlretrieve(url,p/file)"
      ],
      "execution_count": 0,
      "outputs": []
    },
    {
      "cell_type": "markdown",
      "metadata": {
        "id": "Kbjp21TwznsC",
        "colab_type": "text"
      },
      "source": [
        "Download images (this may take a while - in the meantime you could start solving the last task at the very bottom: implement saliency by occlusion):"
      ]
    },
    {
      "cell_type": "code",
      "metadata": {
        "id": "MQuXCvzqzqqt",
        "colab_type": "code",
        "colab": {}
      },
      "source": [
        "from fastai.vision.data import download_images\n",
        "from fastai.vision.data import verify_images\n",
        "\n",
        "max_pics = 400\n",
        "for idx, name in enumerate(classes):\n",
        "  print(name)\n",
        "  folder = name\n",
        "  file = name + '.csv'\n",
        "  dest = p/folder\n",
        "  dest.mkdir(parents=True, exist_ok=True)\n",
        "  download_images(p/file, dest, max_pics=max_pics)"
      ],
      "execution_count": 0,
      "outputs": []
    },
    {
      "cell_type": "markdown",
      "metadata": {
        "id": "pO_n0jDlzsd6",
        "colab_type": "text"
      },
      "source": [
        "Prune of remove non-image files:"
      ]
    },
    {
      "cell_type": "code",
      "metadata": {
        "id": "1xgPJxyj0LYM",
        "colab_type": "code",
        "colab": {}
      },
      "source": [
        "for c in classes:\n",
        "    print(c)\n",
        "    verify_images(p/c, delete=True, max_size=500)"
      ],
      "execution_count": 0,
      "outputs": []
    },
    {
      "cell_type": "markdown",
      "metadata": {
        "id": "_gz4UHe_zy7H",
        "colab_type": "text"
      },
      "source": [
        "Make data generator that runs through all images:"
      ]
    },
    {
      "cell_type": "code",
      "metadata": {
        "id": "GM6y2USm9_NY",
        "colab_type": "code",
        "outputId": "3d06038d-96d1-444d-ab35-988e350f24be",
        "colab": {
          "base_uri": "https://localhost:8080/",
          "height": 35
        }
      },
      "source": [
        "from keras.preprocessing.image import ImageDataGenerator\n",
        "\n",
        "batch_size = 32\n",
        "datagen = ImageDataGenerator(preprocessing_function=preprocess_input) #included in our dependencies\n",
        "generator = datagen.flow_from_directory(str(p), # this is where you specify the path to the main data folder\n",
        "                                        target_size=(224,224),\n",
        "                                        color_mode='rgb',\n",
        "                                        batch_size=batch_size,\n",
        "                                        class_mode='categorical',\n",
        "                                        shuffle=True)"
      ],
      "execution_count": 0,
      "outputs": [
        {
          "output_type": "stream",
          "text": [
            "Found 2884 images belonging to 8 classes.\n"
          ],
          "name": "stdout"
        }
      ]
    },
    {
      "cell_type": "markdown",
      "metadata": {
        "id": "AbuGRvrmz4sE",
        "colab_type": "text"
      },
      "source": [
        "Verify that generator classes and your classes are in the same order:"
      ]
    },
    {
      "cell_type": "code",
      "metadata": {
        "id": "RRspdN9u-S3j",
        "colab_type": "code",
        "outputId": "1cbded2a-7ba7-4473-f8f2-676860837681",
        "colab": {
          "base_uri": "https://localhost:8080/",
          "height": 54
        }
      },
      "source": [
        "print(generator.class_indices)\n",
        "print(classes)"
      ],
      "execution_count": 0,
      "outputs": [
        {
          "output_type": "stream",
          "text": [
            "{'bird': 0, 'cat': 1, 'cows': 2, 'dog': 3, 'horse': 4, 'mouse': 5, 'pig': 6, 'sheep': 7}\n",
            "['bird', 'cat', 'cows', 'dog', 'horse', 'mouse', 'pig', 'sheep']\n"
          ],
          "name": "stdout"
        }
      ]
    },
    {
      "cell_type": "markdown",
      "metadata": {
        "id": "iyhMfmz71Qnh",
        "colab_type": "text"
      },
      "source": [
        "##Inspecting fully connected layers\n",
        "Here we are slightly modify the model. How (in what way)?\n"
      ]
    },
    {
      "cell_type": "code",
      "metadata": {
        "id": "g1kcJrx90UW8",
        "colab_type": "code",
        "colab": {}
      },
      "source": [
        "from keras import activations\n",
        "from keras.models import load_model\n",
        "\n",
        "# Copy the model\n",
        "model = Model(inputs=vgg16_full.input, outputs=vgg16_full.get_layer('predictions').output)\n",
        "\n",
        "# What is happenning here?\n",
        "model.layers[-1].activation = activations.linear\n",
        "model.save('dummy')\n",
        "model = load_model('dummy')\n",
        "\n",
        "scores = model.predict(img_preprocessed)\n",
        "print(scores)"
      ],
      "execution_count": 0,
      "outputs": []
    },
    {
      "cell_type": "markdown",
      "metadata": {
        "id": "IP4DCFqJ5Exa",
        "colab_type": "text"
      },
      "source": [
        "Extract 1000-dimensional feature vectors from last FC layer and run K Nearest Neighbors:"
      ]
    },
    {
      "cell_type": "code",
      "metadata": {
        "id": "C6xP0yjv-zjF",
        "colab_type": "code",
        "colab": {}
      },
      "source": [
        "#https://scikit-learn.org/stable/auto_examples/neighbors/plot_classification.html#sphx-glr-auto-examples-neighbors-plot-classification-py\n",
        "from sklearn import neighbors\n",
        "\n",
        "# Function returns pairs of observations:\n",
        "# - features_raw are the raw images\n",
        "# - features_net are the network feature vectors\n",
        "def extract_features(generator,batch_size,num_batches):\n",
        "    sample_count = batch_size * num_batches\n",
        "    features_raw = np.zeros(shape=(sample_count, 224*224*3))\n",
        "    features_net = np.zeros(shape=(sample_count, 1000))\n",
        "    labels = np.zeros(shape=(sample_count))\n",
        "    i = 0\n",
        "    for inputs_batch, labels_batch in generator:\n",
        "        print(i)\n",
        "        features_batch = np.reshape(inputs_batch,(batch_size,224*224*3))\n",
        "        features_raw[i * batch_size : (i + 1) * batch_size] = features_batch\n",
        "        \n",
        "        features_batch = model.predict(inputs_batch)\n",
        "        features_batch = np.reshape(features_batch,(batch_size,1000))\n",
        "        features_net[i * batch_size : (i + 1) * batch_size] = features_batch\n",
        "        \n",
        "        labels[i * batch_size : (i + 1) * batch_size] = np.argmax(labels_batch,axis=1)\n",
        "        \n",
        "        i += 1\n",
        "        if i * batch_size >= sample_count:\n",
        "            # Note that since generators yield data indefinitely in a loop,\n",
        "            # we must `break` after every image has been seen once.\n",
        "            break\n",
        "    return features_raw, features_net, labels\n",
        "\n",
        "num_batches = 50\n",
        "features_raw, features_net, labels = extract_features(generator, batch_size, num_batches)\n",
        "\n",
        "# Train K-NN classifier on network features (features_net) with k = 10\n",
        "nbrs = neighbors.NearestNeighbors(n_neighbors=10, algorithm='ball_tree').fit(features_net)"
      ],
      "execution_count": 0,
      "outputs": []
    },
    {
      "cell_type": "markdown",
      "metadata": {
        "id": "kYz7CoXP1807",
        "colab_type": "text"
      },
      "source": [
        "Count number of exampls within each class (just a test - numbers should be fairly equal):"
      ]
    },
    {
      "cell_type": "code",
      "metadata": {
        "id": "2L0YzUZ9MzN1",
        "colab_type": "code",
        "colab": {}
      },
      "source": [
        "for i in range(8):\n",
        "  print(i,len(np.where(labels==i)[0]))"
      ],
      "execution_count": 0,
      "outputs": []
    },
    {
      "cell_type": "markdown",
      "metadata": {
        "id": "tZ3UBXYZ4EEQ",
        "colab_type": "text"
      },
      "source": [
        "Pick a random image and display its 10 closest neighbours:"
      ]
    },
    {
      "cell_type": "code",
      "metadata": {
        "id": "MXSeddEBAf_o",
        "colab_type": "code",
        "colab": {}
      },
      "source": [
        "# Pick test image\n",
        "filelist = [x for x in (p/classes[np.random.randint(0,len(classes)-1)]).iterdir() if x.is_file()]\n",
        "img_path = filelist[np.random.randint(0,len(filelist)-1)]\n",
        "print(f\"File path: {img_path}\")\n",
        "\n",
        "# Load and preprocess\n",
        "img = image.load_img(img_path, target_size=(224, 224))\n",
        "img_data = image.img_to_array(img)\n",
        "img_data = np.expand_dims(img_data, axis=0)\n",
        "img_data = preprocess_input(img_data)\n",
        "\n",
        "# Feed test image through network to get feature vector\n",
        "X = model.predict(img_data)\n",
        "X = np.reshape(X,(1,1000)) # Vectorize\n",
        "\n",
        "# Get indicies of 10 nearest neighbours (+ distances)\n",
        "distances, indices = nbrs.kneighbors(X)\n",
        "\n",
        "# Display nearest neighbours\n",
        "plt.figure()\n",
        "im = (img_data[0,:,:,:]+128)/255\n",
        "b,g,r = cv2.split(im)\n",
        "rgb = cv2.merge((r,g,b))\n",
        "plt.imshow(np.clip(rgb,0,1,out=rgb))\n",
        "plt.imshow(rgb)\n",
        "plt.figure(figsize=(12,6))\n",
        "for i in range(10):\n",
        "  plt.subplot(2,5,i+1)\n",
        "  im = (np.reshape(features_raw[indices[0][i],:],(224,224,3)) + 128) / 255\n",
        "  b,g,r = cv2.split(im)\n",
        "  rgb = cv2.merge((r,g,b))\n",
        "  plt.imshow(np.clip(rgb,0,1,out=rgb))"
      ],
      "execution_count": 0,
      "outputs": []
    },
    {
      "cell_type": "markdown",
      "metadata": {
        "id": "F9k7RMrT4TEz",
        "colab_type": "text"
      },
      "source": [
        "###Questions\n",
        "Run the above code blok a few times and inspect the output.\n",
        "\n",
        "1. What should you be looking for?\n",
        "2. Are you happy with what ou see?"
      ]
    },
    {
      "cell_type": "markdown",
      "metadata": {
        "id": "emC52WVe5pdL",
        "colab_type": "text"
      },
      "source": [
        "## Visualization using dimensionality reduction\n",
        "Run t-SNE of extracted feature vectors:"
      ]
    },
    {
      "cell_type": "code",
      "metadata": {
        "id": "0ExZNc0VC019",
        "colab_type": "code",
        "colab": {}
      },
      "source": [
        "from __future__ import print_function\n",
        "import time\n",
        "import numpy as np\n",
        "import pandas as pd\n",
        "from sklearn.datasets import fetch_mldata\n",
        "from sklearn.decomposition import PCA\n",
        "from sklearn.manifold import TSNE\n",
        "%matplotlib inline\n",
        "import matplotlib.pyplot as plt\n",
        "from mpl_toolkits.mplot3d import Axes3D\n",
        "import seaborn as sns\n",
        "\n",
        "# Same as above, but using neural net representation\n",
        "X = features_net\n",
        "y = labels\n",
        "print(X.shape, y.shape)\n",
        "\n",
        "feat_cols = [ 'pixel'+str(i) for i in range(X.shape[1]) ]\n",
        "df = pd.DataFrame(X,columns=feat_cols)\n",
        "df['y'] = y\n",
        "df['y'] = df['y'].apply(lambda i: classes[int(i)])\n",
        "X, y = None, None\n",
        "print('Size of the dataframe: {}'.format(df.shape))\n",
        "\n",
        "rndperm = np.random.permutation(df.shape[0])\n",
        "\n",
        "N = 10000\n",
        "df_subset = df.loc[rndperm[:N],:].copy()\n",
        "data_subset = df_subset[feat_cols].values\n",
        "pca = PCA(n_components=3)\n",
        "pca_result = pca.fit_transform(data_subset)\n",
        "df_subset['pca-one'] = pca_result[:,0]\n",
        "df_subset['pca-two'] = pca_result[:,1] \n",
        "df_subset['pca-three'] = pca_result[:,2]\n",
        "print('Explained variation per principal component: {}'.format(pca.explained_variance_ratio_))\n",
        "\n",
        "time_start = time.time()\n",
        "tsne = TSNE(n_components=2, verbose=1, perplexity=40, n_iter=300)\n",
        "tsne_results = tsne.fit_transform(data_subset)\n",
        "print('t-SNE done! Time elapsed: {} seconds'.format(time.time()-time_start))\n",
        "\n",
        "df_subset['tsne-2d-one'] = tsne_results[:,0]\n",
        "df_subset['tsne-2d-two'] = tsne_results[:,1]\n",
        "plt.figure(figsize=(16,10))\n",
        "sns.scatterplot(\n",
        "    x=\"tsne-2d-one\", y=\"tsne-2d-two\",\n",
        "    hue=\"y\",\n",
        "    palette=sns.color_palette(\"bright\", len(classes)),\n",
        "    data=df_subset,\n",
        "    legend=\"full\",\n",
        "    alpha=0.3\n",
        ")"
      ],
      "execution_count": 0,
      "outputs": []
    },
    {
      "cell_type": "markdown",
      "metadata": {
        "id": "0z7mCto7540F",
        "colab_type": "text"
      },
      "source": [
        "###Questions\n",
        "1. What can you say about the the topology of the learned representation?\n",
        "2. Are any of the classes clearly separated from the others?\n",
        "3. Which classes are likely confused more often than others?"
      ]
    },
    {
      "cell_type": "markdown",
      "metadata": {
        "id": "oPqnthUG7M2K",
        "colab_type": "text"
      },
      "source": [
        "##Implement saliency by occlusion\n",
        "Implement saliency by occlusion and test it on the first cat image.\n",
        "\n",
        "I used a window size of 48 pixels and a stride of 4 in my solution.\n",
        "\n",
        "Here is some code to get you started:"
      ]
    },
    {
      "cell_type": "code",
      "metadata": {
        "id": "wedcH96A7Otq",
        "colab_type": "code",
        "colab": {}
      },
      "source": [
        "img_path = '/content/gdrive/My Drive/cat.jpg'\n",
        "img = image.load_img(img_path, target_size=(224, 224))\n",
        "img_data = image.img_to_array(img)\n",
        "img_data = np.expand_dims(img_data, axis=0)\n",
        "img_preprocessed = preprocess_input(img_data.copy())\n",
        "\n",
        "predictions = vgg16_full.predict(img_preprocessed)\n",
        "\n",
        "class_index = np.argmax(predictions)\n",
        "print(class_index)\n",
        "\n",
        "prob = predictions[0,class_index]\n",
        "print(prob)"
      ],
      "execution_count": 0,
      "outputs": []
    }
  ]
}