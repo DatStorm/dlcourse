{
  "nbformat": 4,
  "nbformat_minor": 0,
  "metadata": {
    "kernelspec": {
      "name": "python3",
      "display_name": "Python 3"
    },
    "language_info": {
      "codemirror_mode": {
        "name": "ipython",
        "version": 3
      },
      "file_extension": ".py",
      "mimetype": "text/x-python",
      "name": "python",
      "nbconvert_exporter": "python",
      "pygments_lexer": "ipython3",
      "version": "3.5.4"
    },
    "colab": {
      "name": "Lab2_FeatureExtractionAndTransferLearning",
      "version": "0.3.2",
      "provenance": [],
      "collapsed_sections": [],
      "machine_shape": "hm"
    },
    "accelerator": "GPU"
  },
  "cells": [
    {
      "cell_type": "markdown",
      "metadata": {
        "id": "jdTAiE71iHF3",
        "colab_type": "text"
      },
      "source": [
        "# Feature extraction and transfer learning with pre-trained CNNs"
      ]
    },
    {
      "cell_type": "markdown",
      "metadata": {
        "id": "v7tmk836r9sK",
        "colab_type": "text"
      },
      "source": [
        "## Task 1: Download training images"
      ]
    },
    {
      "cell_type": "markdown",
      "metadata": {
        "id": "OZn30wetMkxe",
        "colab_type": "text"
      },
      "source": [
        "Our starting point is to find some pictures of objects that we want our neural network to recognize. To download training images of cats, for instance, you go to https://images.google.com/ and you type in \"cat\" and you just scroll through until you find a goodly bunch of them (say 200-400)\n",
        "\n",
        "The next thing you need to do is to get a list of all the URLs there. To do that, back in your google images, you hit Ctrl-Shift-J in Windows/Linux and Cmd-Opt-J in Mac, and you paste the following into the window that appears:"
      ]
    },
    {
      "cell_type": "markdown",
      "metadata": {
        "id": "BVgwOGC_ifUT",
        "colab_type": "text"
      },
      "source": [
        "```\n",
        "urls = Array.from(document.querySelectorAll('.rg_di .rg_meta')).map(el=>JSON.parse(el.textContent).ou);\n",
        "window.open('data:text/csv;charset=utf-8,' + escape(urls.join('\\n')));\n",
        "```\n",
        "\n"
      ]
    },
    {
      "cell_type": "markdown",
      "metadata": {
        "id": "1gwzN5h4stYa",
        "colab_type": "text"
      },
      "source": [
        "This will download a text file containing all the URLs. For now, just keep the file on your local machine. Rename the file to `<classname>.csv`. So for instance, if you downloaded URLs of cat images, you want to name the file `cat.csv`"
      ]
    },
    {
      "cell_type": "markdown",
      "metadata": {
        "id": "P5a5ZkTdtWz6",
        "colab_type": "text"
      },
      "source": [
        "Repeat the above process for each of the object categories, you wish to recognize. Pick 3 or more categories to make it more interesting. Below, I picked cat, dog, and horse."
      ]
    },
    {
      "cell_type": "markdown",
      "metadata": {
        "id": "5a2wNWh4zOiz",
        "colab_type": "text"
      },
      "source": [
        "##Task 2: Mount your Google Drive, create data directory, and upload csv files\n",
        "Make a copy of this notebook in your Google Drive. And yes, you need to mount your Drive every time you start working on a notebook."
      ]
    },
    {
      "cell_type": "code",
      "metadata": {
        "id": "eYezthubzNRt",
        "colab_type": "code",
        "outputId": "16e326f2-61d3-4906-b656-2b9aa725e889",
        "colab": {
          "base_uri": "https://localhost:8080/",
          "height": 34
        }
      },
      "source": [
        "from google.colab import drive\n",
        "drive.mount('/content/gdrive')"
      ],
      "execution_count": 0,
      "outputs": [
        {
          "output_type": "stream",
          "text": [
            "Drive already mounted at /content/gdrive; to attempt to forcibly remount, call drive.mount(\"/content/gdrive\", force_remount=True).\n"
          ],
          "name": "stdout"
        }
      ]
    },
    {
      "cell_type": "markdown",
      "metadata": {
        "id": "LJjrzCdf0WSe",
        "colab_type": "text"
      },
      "source": [
        "Create data directory. I prefer to use pathlab: https://docs.python.org/3/library/pathlib.html, but you can also use normal shell commands by prefixing with !"
      ]
    },
    {
      "cell_type": "code",
      "metadata": {
        "id": "rH00yY6d0dWi",
        "colab_type": "code",
        "colab": {}
      },
      "source": [
        "from pathlib import Path\n",
        "\n",
        "root = '/content/gdrive/My Drive/' # Don't change this\n",
        "data_dirname = 'data' # Change as you like\n",
        "p = Path(root + data_dirname)\n",
        "p.mkdir(exist_ok=True)"
      ],
      "execution_count": 0,
      "outputs": []
    },
    {
      "cell_type": "markdown",
      "metadata": {
        "id": "dp_5QZmtvoYa",
        "colab_type": "text"
      },
      "source": [
        "Now, let's upload the csv files to Google Colab. Click the \">\" fan at the top left below the Colab logo."
      ]
    },
    {
      "cell_type": "markdown",
      "metadata": {
        "id": "srGDIAenvwWB",
        "colab_type": "text"
      },
      "source": [
        "![alt text](https://media.geeksforgeeks.org/wp-content/uploads/20190430123759/Screenshot-502.png)\n",
        "\n",
        "This will open a menu where you can see file hierachy if you click Files.\n",
        "\n",
        "![alt text](https://media.geeksforgeeks.org/wp-content/uploads/20190430124049/Screenshot-516.png)"
      ]
    },
    {
      "cell_type": "markdown",
      "metadata": {
        "id": "EXrEwFSPPb66",
        "colab_type": "text"
      },
      "source": [
        "To upload the csv files, locate the newly created data directory in the file hierarchy (if you used my code directly the path should be `/content/gdrive/My Drive/data`), then drag-and-drop the csv files from your local machine.\n",
        "\n",
        "This should result in something like this:"
      ]
    },
    {
      "cell_type": "code",
      "metadata": {
        "id": "iYlnhSOPzuWw",
        "colab_type": "code",
        "outputId": "4b67dce4-57c5-43f6-cf42-869301d86a39",
        "colab": {
          "base_uri": "https://localhost:8080/",
          "height": 84
        }
      },
      "source": [
        "[print(x) for x in p.iterdir() if x.is_file()]"
      ],
      "execution_count": 0,
      "outputs": [
        {
          "output_type": "stream",
          "text": [
            "/content/gdrive/My Drive/data/horse.csv\n",
            "/content/gdrive/My Drive/data/cat.csv\n",
            "/content/gdrive/My Drive/data/dog.csv\n"
          ],
          "name": "stdout"
        },
        {
          "output_type": "execute_result",
          "data": {
            "text/plain": [
              "[None, None, None]"
            ]
          },
          "metadata": {
            "tags": []
          },
          "execution_count": 3
        }
      ]
    },
    {
      "cell_type": "markdown",
      "metadata": {
        "id": "xegPBnK3t6ey",
        "colab_type": "text"
      },
      "source": [
        "If you use shell commands, you can verify that the csv files have been uploaded by listing the content of the data directory:"
      ]
    },
    {
      "cell_type": "code",
      "metadata": {
        "id": "V0q4lWJXugad",
        "colab_type": "code",
        "outputId": "a6e4665d-26e2-4edc-a3ce-e33b1081cfb5",
        "colab": {
          "base_uri": "https://localhost:8080/",
          "height": 34
        }
      },
      "source": [
        "!ls 'gdrive/My Drive/data'"
      ],
      "execution_count": 0,
      "outputs": [
        {
          "output_type": "stream",
          "text": [
            "cat.csv  dog.csv  horse.csv\n"
          ],
          "name": "stdout"
        }
      ]
    },
    {
      "cell_type": "markdown",
      "metadata": {
        "id": "pLjprFaHvQkq",
        "colab_type": "text"
      },
      "source": [
        "Note that by default the current directory is /content. You can verify this by running the following command:"
      ]
    },
    {
      "cell_type": "code",
      "metadata": {
        "id": "F_ZVh9B6yzAC",
        "colab_type": "code",
        "outputId": "504b004c-c9a5-4ad0-f8da-aab0a1501ac6",
        "colab": {
          "base_uri": "https://localhost:8080/",
          "height": 34
        }
      },
      "source": [
        "!pwd"
      ],
      "execution_count": 0,
      "outputs": [
        {
          "output_type": "stream",
          "text": [
            "/content\n"
          ],
          "name": "stdout"
        }
      ]
    },
    {
      "cell_type": "markdown",
      "metadata": {
        "id": "Uc3DnzQ6vbG6",
        "colab_type": "text"
      },
      "source": [
        "##Task 3: Download image files from URLs"
      ]
    },
    {
      "cell_type": "markdown",
      "metadata": {
        "id": "STHrHXU1zyII",
        "colab_type": "text"
      },
      "source": [
        "The next step is to actually download the image files from the URLs in the csv files.\n",
        "\n",
        "First specify which classes you want to include. Note that the class names must match the names given to the csv files:"
      ]
    },
    {
      "cell_type": "code",
      "metadata": {
        "id": "mStklC0j0rHf",
        "colab_type": "code",
        "colab": {}
      },
      "source": [
        "classes = ['cat','dog','horse']"
      ],
      "execution_count": 0,
      "outputs": []
    },
    {
      "cell_type": "markdown",
      "metadata": {
        "id": "_RSwI-Rv036P",
        "colab_type": "text"
      },
      "source": [
        "Then download the images (just ignore any error messages):"
      ]
    },
    {
      "cell_type": "code",
      "metadata": {
        "id": "lZ8co4D3Pjnw",
        "colab_type": "code",
        "colab": {}
      },
      "source": [
        "from fastai.vision.data import download_images\n",
        "from fastai.vision.data import verify_images\n",
        "max_pics = 400\n",
        "\n",
        "for idx, name in enumerate(classes):\n",
        "  print(name)\n",
        "  folder = name\n",
        "  file = name + '.csv'\n",
        "  dest = p/folder\n",
        "  dest.mkdir(parents=True, exist_ok=True)\n",
        "  download_images(p/file, dest, max_pics=max_pics)"
      ],
      "execution_count": 0,
      "outputs": []
    },
    {
      "cell_type": "markdown",
      "metadata": {
        "id": "G2aeQ7Oy1K_X",
        "colab_type": "text"
      },
      "source": [
        "And remove files that are not actually images (again, just ignore any error messages):"
      ]
    },
    {
      "cell_type": "code",
      "metadata": {
        "id": "rVCyQ8u-PDUL",
        "colab_type": "code",
        "colab": {}
      },
      "source": [
        "for c in classes:\n",
        "    print(c)\n",
        "    verify_images(p/c, delete=True, max_size=500)"
      ],
      "execution_count": 0,
      "outputs": []
    },
    {
      "cell_type": "markdown",
      "metadata": {
        "id": "e1ZGqyqR2HS2",
        "colab_type": "text"
      },
      "source": [
        "## Task 4: Set up neural network for feature extraction\n",
        "Before proceeding *REMEMBER TO ENABLE GPU IN THE RUNTIME ENVIRONMENT:* Go to Runtime -> \"Change runtime type\" and select GPU as hardware acelerator.\n",
        "\n",
        "We will be using a deep learning framework, called [Keras](https://keras.io/). Keras is a high-level neural network API, written in Python and capable of running on top of [TensorFlow](https://www.tensorflow.org/), CNTK, and Theano.\n",
        "\n",
        "A common and highly effective approach to deep learning on small image datasets is to leverage a pre-trained network. A pre-trained network is simply a saved network previously trained on a large dataset, such as the [ImageNet dataset](http://www.image-net.org/) (1.4 million labeled images and 1000 different classes). If this original dataset is large enough and general enough, then the spatial feature hierarchy learned by the pre-trained network can effectively act as a generic model of our visual world, and hence its features can prove useful for many different computer vision problems, even though these new problems might involve completely different classes from those of the original task.\n",
        "\n",
        "In our case, we will consider a convolutional neural network (CNN) trained on ImageNet. We will use the MobileNet architecture, but there are other models that you could use as well. Take a look here: https://keras.io/applications\n",
        "\n",
        "There are two ways to leverage a pre-trained network: feature extraction and fine-tuning. We will be covering both of them today. Let's start with feature extraction.\n",
        "\n",
        "Feature extraction consists of using the representations learned by an existing neural network to extract interesting features from new samples. These features are then run through a new classifier, which is trained from scratch. This could be any classifier, such as K-Nearest Neighbours (K-NN).\n",
        "\n",
        "CNNs comprise two parts: they start with a series of convolution and pooling layers, and they end with a densely-connected classifier. The first part is often referred to as the \"encoder\", \"feature extractor\" or \"convolutional base\" of the model. In the case of CNNs, \"feature extraction\" will simply consist of taking the convolutional base of a previously-trained network, running the new data through it, and training a new classifier on top of the output.\n",
        "\n",
        "First, let's download and instantiate the pre-trained MobileNet without the top layers:"
      ]
    },
    {
      "cell_type": "code",
      "metadata": {
        "id": "YxeBWYX76iCI",
        "colab_type": "code",
        "colab": {}
      },
      "source": [
        "from keras.applications import MobileNet\n",
        "\n",
        "conv_base = MobileNet(weights='imagenet',\n",
        "                      include_top=False,\n",
        "                      input_shape=(120, 120, 3))"
      ],
      "execution_count": 0,
      "outputs": []
    },
    {
      "cell_type": "markdown",
      "metadata": {
        "id": "pn92MTLj62fD",
        "colab_type": "text"
      },
      "source": [
        "Let's summarize the model used for feature extraction:"
      ]
    },
    {
      "cell_type": "code",
      "metadata": {
        "id": "KxrNI8bk69Vj",
        "colab_type": "code",
        "colab": {}
      },
      "source": [
        "conv_base.summary()"
      ],
      "execution_count": 0,
      "outputs": []
    },
    {
      "cell_type": "markdown",
      "metadata": {
        "id": "xm_z3RAZ7DBI",
        "colab_type": "text"
      },
      "source": [
        "###Questions 4.1\n",
        "1. What is the expected shape of the input image?\n",
        "2. What is the shape of the output of the model?\n",
        "3. What happens to the output shape if you double the input shape?\n",
        "4. Can you guess what the None dimension is used for?"
      ]
    },
    {
      "cell_type": "markdown",
      "metadata": {
        "id": "xSNV10j_8AFc",
        "colab_type": "text"
      },
      "source": [
        "##Task 5: Extract features from an image\n",
        "Many neural networks expect the input image to have a fixed, pre-defined shape. Also, the pixel intensities are assumed to be in a fixed range. So for instance, if you train a network on images with intensities in the range -127.5 to 127.5, and you then feed the same network images with intensities in the range -0.5 to 0.5, the output of the network will most likely be garbage.\n",
        "\n",
        "Fortunately each pre-trained network in Keras comes with its own preprocessor, which assures that the intensities are scaled correctly for that particular network.\n",
        "\n",
        "Let's load an image, preprocess it, and feed it through the network:"
      ]
    },
    {
      "cell_type": "code",
      "metadata": {
        "id": "A79c9Ozj8yCV",
        "colab_type": "code",
        "colab": {}
      },
      "source": [
        "import numpy as np\n",
        "from keras.preprocessing import image\n",
        "from keras.applications.mobilenet import preprocess_input\n",
        "\n",
        "# Pick first image of first class\n",
        "filelist = [x for x in (p/classes[0]).iterdir() if x.is_file()]\n",
        "img_path = filelist[0]\n",
        "print(f\"File path: {img_path}\")\n",
        "\n",
        "img = image.load_img(img_path, target_size=(120, 120))\n",
        "img_data = image.img_to_array(img)\n",
        "img_data = np.expand_dims(img_data, axis=0)\n",
        "img_preprocessed = preprocess_input(img_data.copy())\n",
        "\n",
        "mobilenet_features = conv_base.predict(img_preprocessed)"
      ],
      "execution_count": 0,
      "outputs": []
    },
    {
      "cell_type": "markdown",
      "metadata": {
        "id": "SZR30bOf-MIS",
        "colab_type": "text"
      },
      "source": [
        "###Questions 5.1\n",
        "1. What is the range of the pixel values before and after preprocessing?\n",
        "2. So what formula do you think is used to pre-process the pixel values?\n",
        "3. What is the order of the color channels? (you could compare with openCV)?\n",
        "4.a) What is the size of the input image?\n",
        "4.b) What is the size of the calculated feature representation?\n",
        "4.c) So what is the reduction in dimensionality after feature extraction?"
      ]
    },
    {
      "cell_type": "markdown",
      "metadata": {
        "id": "EIjrfD4ecsOS",
        "colab_type": "text"
      },
      "source": [
        "##Task 6: How to use the image generator \n",
        "Loading and preprocessing images is such a common thing in deep learning that frameworks like Keras provides predefined tools for us that we can use. \n",
        "In this task we will look at Keras' image data generator: https://keras.io/preprocessing/image/#imagedatagenerator-class. Simply put, the image generator is a tool that makes loading and preprocessing data easy.\n",
        "\n",
        "Let's set up an image generator that outputs mini-batches of 32 images:\n"
      ]
    },
    {
      "cell_type": "code",
      "metadata": {
        "id": "CP9tCD3Je5WP",
        "colab_type": "code",
        "outputId": "3e9a7dbc-4f73-4883-b757-e6560d52f5f8",
        "colab": {
          "base_uri": "https://localhost:8080/",
          "height": 34
        }
      },
      "source": [
        "from keras.preprocessing.image import ImageDataGenerator\n",
        "datagen = ImageDataGenerator(preprocessing_function=preprocess_input) #included in our dependencies\n",
        "generator = datagen.flow_from_directory(str(p), # this is where you specify the path to the main data folder\n",
        "                                        target_size=(120,120),\n",
        "                                        color_mode='rgb',\n",
        "                                        batch_size=32,\n",
        "                                        class_mode='categorical',\n",
        "                                        shuffle=True)"
      ],
      "execution_count": 0,
      "outputs": [
        {
          "output_type": "stream",
          "text": [
            "Found 1105 images belonging to 3 classes.\n"
          ],
          "name": "stdout"
        }
      ]
    },
    {
      "cell_type": "markdown",
      "metadata": {
        "id": "5g4FSIy_fg5Q",
        "colab_type": "text"
      },
      "source": [
        "Here is one way to generate a new batch:"
      ]
    },
    {
      "cell_type": "code",
      "metadata": {
        "id": "YC9X6GshfLYv",
        "colab_type": "code",
        "colab": {}
      },
      "source": [
        "inputs, labels = generator.next()"
      ],
      "execution_count": 0,
      "outputs": []
    },
    {
      "cell_type": "markdown",
      "metadata": {
        "id": "P535xuM7e9jL",
        "colab_type": "text"
      },
      "source": [
        "###Questions 6.1\n",
        "1. What is variable \"inputs\"?\n",
        "2. What is variable \"labels\"?\n",
        "3. How does the image generator know where the images are stored?\n",
        "4. How does the image generator know the class of each image?\n",
        "5. What does shuffle mean?"
      ]
    },
    {
      "cell_type": "markdown",
      "metadata": {
        "id": "6_hQXxhFgLaJ",
        "colab_type": "text"
      },
      "source": [
        "As you learned in lecture 2 it is always a good idea to split the data into a training set and a validation set. Again, this is such a common thing in deep learning that the image generator can do it for us:"
      ]
    },
    {
      "cell_type": "code",
      "metadata": {
        "id": "uXA-IppWgYsi",
        "colab_type": "code",
        "outputId": "9b8f827a-bf40-4035-bf5c-577383d94d10",
        "colab": {
          "base_uri": "https://localhost:8080/",
          "height": 50
        }
      },
      "source": [
        "datagen = ImageDataGenerator(preprocessing_function=preprocess_input,validation_split=0.2)\n",
        "\n",
        "train_generator = datagen.flow_from_directory(str(p),\n",
        "                                        target_size=(120,120),\n",
        "                                        color_mode='rgb',\n",
        "                                        batch_size=32,\n",
        "                                        class_mode='categorical',\n",
        "                                        shuffle=True,\n",
        "                                        subset='training')\n",
        "validation_generator = datagen.flow_from_directory(str(p),\n",
        "                                        target_size=(120,120),\n",
        "                                        color_mode='rgb',\n",
        "                                        batch_size=32,\n",
        "                                        class_mode='categorical',\n",
        "                                        shuffle=True,\n",
        "                                        subset='validation')"
      ],
      "execution_count": 0,
      "outputs": [
        {
          "output_type": "stream",
          "text": [
            "Found 885 images belonging to 3 classes.\n",
            "Found 220 images belonging to 3 classes.\n"
          ],
          "name": "stdout"
        }
      ]
    },
    {
      "cell_type": "markdown",
      "metadata": {
        "id": "tLpdkt3ehCI0",
        "colab_type": "text"
      },
      "source": [
        "###Questions 6.2\n",
        "1. How does each of the two generators know if it should produce training or validation images?\n",
        "2. What is the validation percentage in this example?"
      ]
    },
    {
      "cell_type": "markdown",
      "metadata": {
        "id": "5yfcUFNAhSBS",
        "colab_type": "text"
      },
      "source": [
        "Now, you can in principle create a complete training set and a validation set of images (this could take some time depending on the available GPU - feel free to read on while you are waiting):"
      ]
    },
    {
      "cell_type": "code",
      "metadata": {
        "id": "5S9FZc68heuV",
        "colab_type": "code",
        "colab": {}
      },
      "source": [
        "def extract_features(generator,batch_size,num_batches):\n",
        "    sample_count = batch_size * num_batches\n",
        "    features = np.zeros(shape=(sample_count, 120*120*3))\n",
        "    labels = np.zeros(shape=(sample_count))\n",
        "    i = 0\n",
        "    for inputs_batch, labels_batch in generator:\n",
        "        print(i)\n",
        "        features_batch = np.reshape(inputs_batch,(32,120*120*3))\n",
        "        features[i * batch_size : (i + 1) * batch_size] = features_batch\n",
        "        labels[i * batch_size : (i + 1) * batch_size] = np.argmax(labels_batch,axis=1)\n",
        "        i += 1\n",
        "        if i * batch_size >= sample_count:\n",
        "            # Note that since generators yield data indefinitely in a loop,\n",
        "            # we must `break` after every image has been seen once.\n",
        "            break\n",
        "    return features, labels\n",
        "\n",
        "num_train_batches = 20\n",
        "num_validation_batches = 4\n",
        "train_features_raw, train_labels_raw = extract_features(train_generator, 32, num_train_batches)\n",
        "validation_features_raw, validation_labels_raw = extract_features(validation_generator, 32, num_validation_batches)"
      ],
      "execution_count": 0,
      "outputs": []
    },
    {
      "cell_type": "markdown",
      "metadata": {
        "id": "jEx-I6B20U0P",
        "colab_type": "text"
      },
      "source": [
        "Show the first 32 images of the validation data set (verify that the labels are correct):"
      ]
    },
    {
      "cell_type": "code",
      "metadata": {
        "id": "plz9liatrfhW",
        "colab_type": "code",
        "colab": {}
      },
      "source": [
        "import matplotlib.pyplot as plt\n",
        "plt.figure(figsize=(9,9))\n",
        "for i in range(32):\n",
        "  img = (np.reshape(validation_features_raw[i,:],(120,120,3))+1)/2\n",
        "  plt.subplot(4,8,i+1)\n",
        "  plt.imshow(img)\n",
        "  plt.xticks([]), plt.yticks([])\n",
        "  plt.title(classes[int(validation_labels_raw[i])])"
      ],
      "execution_count": 0,
      "outputs": []
    },
    {
      "cell_type": "markdown",
      "metadata": {
        "id": "r64k-mEESwzV",
        "colab_type": "text"
      },
      "source": [
        "###Questions 6.3\n",
        "The image data has now been vectorized.\n",
        "1. What is the shape of ```train_features_raw``` and ```train_labels_raw```?\n",
        "2. What is the shape of ```validation_features_raw``` and ```validation_labels_raw```?"
      ]
    },
    {
      "cell_type": "markdown",
      "metadata": {
        "id": "nsyddx2zjdlL",
        "colab_type": "text"
      },
      "source": [
        "##Task 7: Classify images using K-NN and raw pixels\n",
        "The features that we have just calculated correspond to the raw pixel values. Now, your task is to train a K-NN classifier on the training set, and evaluate the performace on the validation set (i.e., what is the accuracy on the validation set?)\n",
        "\n",
        "The training set consists of variables\n",
        "\n",
        "```\n",
        "train_features_raw, train_labels_raw\n",
        "```\n",
        "\n",
        "and the validation set consists of variables\n",
        "\n",
        "```\n",
        "validation_features_raw, validation_labels_raw\n",
        "```\n",
        "\n",
        "\n",
        "You are on your own here. You don't have to implement K-NN yourself. I suggest you use scikit-learn: https://scikit-learn.org"
      ]
    },
    {
      "cell_type": "markdown",
      "metadata": {
        "id": "tHirJTl8esM1",
        "colab_type": "text"
      },
      "source": [
        "##Task 8: Classify images using K-NN and neural net features\n",
        "Now, repeat the same task, but this time using the features calculated using the pre-trained neural network, rather than the raw pixel values.\n",
        "\n",
        "(*NOTE: Running this code block sometimes courses an error, when I run it. I haven't found a way to fix it yet. If it happens to you, just keep running the code block until it doesn't fail...*)"
      ]
    },
    {
      "cell_type": "code",
      "metadata": {
        "id": "k4PJWiZ3mAVB",
        "colab_type": "code",
        "colab": {}
      },
      "source": [
        "def extract_features(generator,batch_size,num_batches):\n",
        "    sample_count = batch_size * num_batches\n",
        "    features = np.zeros(shape=(sample_count, 3*3*1024))\n",
        "    labels = np.zeros(shape=(sample_count))\n",
        "    i = 0\n",
        "    for inputs_batch, labels_batch in generator:\n",
        "        print(i)\n",
        "        features_batch = conv_base.predict(inputs_batch)\n",
        "        features_batch = np.reshape(features_batch,(32,3*3*1024))\n",
        "        features[i * batch_size : (i + 1) * batch_size] = features_batch\n",
        "        labels[i * batch_size : (i + 1) * batch_size] = np.argmax(labels_batch,axis=1)\n",
        "        i += 1\n",
        "        if i * batch_size >= sample_count:\n",
        "            # Note that since generators yield data indefinitely in a loop,\n",
        "            # we must `break` after every image has been seen once.\n",
        "            break\n",
        "    return features, labels\n",
        "\n",
        "num_train_batches = 20\n",
        "num_validation_batches = 4\n",
        "train_features, train_labels = extract_features(train_generator, 32, num_train_batches)\n",
        "validation_features, validation_labels = extract_features(validation_generator, 32, num_validation_batches)"
      ],
      "execution_count": 0,
      "outputs": []
    },
    {
      "cell_type": "markdown",
      "metadata": {
        "id": "FWhDT3leUAUe",
        "colab_type": "text"
      },
      "source": [
        "###Help getting started:\n",
        "1. What is the shape of ```train_features``` and ```train_labels```?\n",
        "2. What is the shape of ```validation_features``` and ```validation_labels```?"
      ]
    },
    {
      "cell_type": "markdown",
      "metadata": {
        "id": "tN39UXf8syYV",
        "colab_type": "text"
      },
      "source": [
        "If everything went as planned, you should be able to conclude that the accuracy of the K-NN classifier is significantly higher when using the neural networks features compared to when using the raw pixel values as features. This is becuase the MobileNet has learned features that are useful for classifying 1000 different object categories. In almost any scenario you can think of, MobileNet's feature representation will be better than using the raw pixels."
      ]
    },
    {
      "cell_type": "markdown",
      "metadata": {
        "id": "xgy3bOwKwFrA",
        "colab_type": "text"
      },
      "source": [
        "##Task 9: K-means clustering\n",
        "So what we have learned so far is that images of the same class tend to group closer together when using MobileNet's feature representation, but not so much when using the raw intensities. This confirms that using the raw pixels as features is in general a bad idea.\n",
        "\n",
        "The reason that MobileNet's feature representation works better is because the network has learned to map images onto a manifold. A manifold is kind of like a low-dimensional surface that exists in a high-dimensional space. For instance if images of faces were to be mapped into a 4D manifold, the first axis on the manifold could represent gender, and the others could represent age, view angle, and eye color. You can read more about manifold learning in chapter 5.11.3 of the book.\n",
        "\n",
        "The underlying hypothesis of using K-NN to classifiy images based on the features computed by MobileNet is that *objects that are similar will map to the approximate same location on some manifold.* Here we will perform K-means clustering and verify that this is in fact the case. For the record, recall that the K-means method is an *undersupervised learning method*, so it doesn't know anything about the class labels.\n",
        "\n",
        "Your task is to perform K-means clustering twice on your dataset: first using the raw intensity features (```train_features_raw```), then using the MobileNet features (```train_features```). Use as many clusters as you have classes.\n",
        "\n",
        "For each cluster, print the class labels of all images in that cluster. Explain what you observe and compare between MobileNet features and raw pixel intensities."
      ]
    },
    {
      "cell_type": "markdown",
      "metadata": {
        "id": "GwL76U482A9A",
        "colab_type": "text"
      },
      "source": [
        "##Task 10: Image retrieval\n",
        "You can use the features of MobileNet to implement an image search engine. This is also called image retrieval.\n",
        "\n",
        "To make this work you need to create a new database, where each entry contains an image **and** its feature vector (as computed by MobileNet).\n",
        "\n",
        "The search engine work like this:\n",
        "\n",
        "1. Given an input image, pre-process it and feed it through MobileNet to calculate the feature vector.\n",
        "2. Then perform a K-NN search with K=10 against the feature vectors in the database.\n",
        "3. Then return the corresponding 10 closest images (also stored in the database)."
      ]
    },
    {
      "cell_type": "markdown",
      "metadata": {
        "id": "oYeEks0j_Tky",
        "colab_type": "text"
      },
      "source": [
        "##Task 11: Transfer learning\n"
      ]
    },
    {
      "cell_type": "markdown",
      "metadata": {
        "id": "UfOBC8RNXByP",
        "colab_type": "text"
      },
      "source": [
        "Putting your own K-NN classifier on top of a pre-trained CNN is not really optimal. Why? Because, while the features of the convolutional base are better than using raw pixel values, they may not be 100% optimal for your specific task. So, a better solution is to attach a second neural network on top of the convolutional base, and train both the classifier *and* the convolutional base at the same time. This is called **transfer learning**.\n",
        "\n",
        "Recall that CNNs like AlexNet and MobileNet have been trained on ImageNet, which contains 1000 classes. If you download Keras' pre-trained models *including the top layers*, the top layers are in fact the classifier that we want to replace. Let's verify this:"
      ]
    },
    {
      "cell_type": "code",
      "metadata": {
        "id": "Kj1lyzlHXND0",
        "colab_type": "code",
        "outputId": "5100f0ed-b7b9-4ca7-b018-8ebe3510f11d",
        "colab": {
          "base_uri": "https://localhost:8080/",
          "height": 1000
        }
      },
      "source": [
        "mobilenet_full = MobileNet(weights='imagenet',\n",
        "                      include_top=True,\n",
        "                      input_shape=(224, 224, 3))\n",
        "mobilenet_full.summary()"
      ],
      "execution_count": 0,
      "outputs": [
        {
          "output_type": "stream",
          "text": [
            "W0903 13:43:58.209277 140713714620288 deprecation.py:506] From /usr/local/lib/python3.6/dist-packages/keras/backend/tensorflow_backend.py:3733: calling dropout (from tensorflow.python.ops.nn_ops) with keep_prob is deprecated and will be removed in a future version.\n",
            "Instructions for updating:\n",
            "Please use `rate` instead of `keep_prob`. Rate should be set to `rate = 1 - keep_prob`.\n"
          ],
          "name": "stderr"
        },
        {
          "output_type": "stream",
          "text": [
            "Downloading data from https://github.com/fchollet/deep-learning-models/releases/download/v0.6/mobilenet_1_0_224_tf.h5\n",
            "17227776/17225924 [==============================] - 0s 0us/step\n",
            "Model: \"mobilenet_1.00_224\"\n",
            "_________________________________________________________________\n",
            "Layer (type)                 Output Shape              Param #   \n",
            "=================================================================\n",
            "input_2 (InputLayer)         (None, 224, 224, 3)       0         \n",
            "_________________________________________________________________\n",
            "conv1_pad (ZeroPadding2D)    (None, 225, 225, 3)       0         \n",
            "_________________________________________________________________\n",
            "conv1 (Conv2D)               (None, 112, 112, 32)      864       \n",
            "_________________________________________________________________\n",
            "conv1_bn (BatchNormalization (None, 112, 112, 32)      128       \n",
            "_________________________________________________________________\n",
            "conv1_relu (ReLU)            (None, 112, 112, 32)      0         \n",
            "_________________________________________________________________\n",
            "conv_dw_1 (DepthwiseConv2D)  (None, 112, 112, 32)      288       \n",
            "_________________________________________________________________\n",
            "conv_dw_1_bn (BatchNormaliza (None, 112, 112, 32)      128       \n",
            "_________________________________________________________________\n",
            "conv_dw_1_relu (ReLU)        (None, 112, 112, 32)      0         \n",
            "_________________________________________________________________\n",
            "conv_pw_1 (Conv2D)           (None, 112, 112, 64)      2048      \n",
            "_________________________________________________________________\n",
            "conv_pw_1_bn (BatchNormaliza (None, 112, 112, 64)      256       \n",
            "_________________________________________________________________\n",
            "conv_pw_1_relu (ReLU)        (None, 112, 112, 64)      0         \n",
            "_________________________________________________________________\n",
            "conv_pad_2 (ZeroPadding2D)   (None, 113, 113, 64)      0         \n",
            "_________________________________________________________________\n",
            "conv_dw_2 (DepthwiseConv2D)  (None, 56, 56, 64)        576       \n",
            "_________________________________________________________________\n",
            "conv_dw_2_bn (BatchNormaliza (None, 56, 56, 64)        256       \n",
            "_________________________________________________________________\n",
            "conv_dw_2_relu (ReLU)        (None, 56, 56, 64)        0         \n",
            "_________________________________________________________________\n",
            "conv_pw_2 (Conv2D)           (None, 56, 56, 128)       8192      \n",
            "_________________________________________________________________\n",
            "conv_pw_2_bn (BatchNormaliza (None, 56, 56, 128)       512       \n",
            "_________________________________________________________________\n",
            "conv_pw_2_relu (ReLU)        (None, 56, 56, 128)       0         \n",
            "_________________________________________________________________\n",
            "conv_dw_3 (DepthwiseConv2D)  (None, 56, 56, 128)       1152      \n",
            "_________________________________________________________________\n",
            "conv_dw_3_bn (BatchNormaliza (None, 56, 56, 128)       512       \n",
            "_________________________________________________________________\n",
            "conv_dw_3_relu (ReLU)        (None, 56, 56, 128)       0         \n",
            "_________________________________________________________________\n",
            "conv_pw_3 (Conv2D)           (None, 56, 56, 128)       16384     \n",
            "_________________________________________________________________\n",
            "conv_pw_3_bn (BatchNormaliza (None, 56, 56, 128)       512       \n",
            "_________________________________________________________________\n",
            "conv_pw_3_relu (ReLU)        (None, 56, 56, 128)       0         \n",
            "_________________________________________________________________\n",
            "conv_pad_4 (ZeroPadding2D)   (None, 57, 57, 128)       0         \n",
            "_________________________________________________________________\n",
            "conv_dw_4 (DepthwiseConv2D)  (None, 28, 28, 128)       1152      \n",
            "_________________________________________________________________\n",
            "conv_dw_4_bn (BatchNormaliza (None, 28, 28, 128)       512       \n",
            "_________________________________________________________________\n",
            "conv_dw_4_relu (ReLU)        (None, 28, 28, 128)       0         \n",
            "_________________________________________________________________\n",
            "conv_pw_4 (Conv2D)           (None, 28, 28, 256)       32768     \n",
            "_________________________________________________________________\n",
            "conv_pw_4_bn (BatchNormaliza (None, 28, 28, 256)       1024      \n",
            "_________________________________________________________________\n",
            "conv_pw_4_relu (ReLU)        (None, 28, 28, 256)       0         \n",
            "_________________________________________________________________\n",
            "conv_dw_5 (DepthwiseConv2D)  (None, 28, 28, 256)       2304      \n",
            "_________________________________________________________________\n",
            "conv_dw_5_bn (BatchNormaliza (None, 28, 28, 256)       1024      \n",
            "_________________________________________________________________\n",
            "conv_dw_5_relu (ReLU)        (None, 28, 28, 256)       0         \n",
            "_________________________________________________________________\n",
            "conv_pw_5 (Conv2D)           (None, 28, 28, 256)       65536     \n",
            "_________________________________________________________________\n",
            "conv_pw_5_bn (BatchNormaliza (None, 28, 28, 256)       1024      \n",
            "_________________________________________________________________\n",
            "conv_pw_5_relu (ReLU)        (None, 28, 28, 256)       0         \n",
            "_________________________________________________________________\n",
            "conv_pad_6 (ZeroPadding2D)   (None, 29, 29, 256)       0         \n",
            "_________________________________________________________________\n",
            "conv_dw_6 (DepthwiseConv2D)  (None, 14, 14, 256)       2304      \n",
            "_________________________________________________________________\n",
            "conv_dw_6_bn (BatchNormaliza (None, 14, 14, 256)       1024      \n",
            "_________________________________________________________________\n",
            "conv_dw_6_relu (ReLU)        (None, 14, 14, 256)       0         \n",
            "_________________________________________________________________\n",
            "conv_pw_6 (Conv2D)           (None, 14, 14, 512)       131072    \n",
            "_________________________________________________________________\n",
            "conv_pw_6_bn (BatchNormaliza (None, 14, 14, 512)       2048      \n",
            "_________________________________________________________________\n",
            "conv_pw_6_relu (ReLU)        (None, 14, 14, 512)       0         \n",
            "_________________________________________________________________\n",
            "conv_dw_7 (DepthwiseConv2D)  (None, 14, 14, 512)       4608      \n",
            "_________________________________________________________________\n",
            "conv_dw_7_bn (BatchNormaliza (None, 14, 14, 512)       2048      \n",
            "_________________________________________________________________\n",
            "conv_dw_7_relu (ReLU)        (None, 14, 14, 512)       0         \n",
            "_________________________________________________________________\n",
            "conv_pw_7 (Conv2D)           (None, 14, 14, 512)       262144    \n",
            "_________________________________________________________________\n",
            "conv_pw_7_bn (BatchNormaliza (None, 14, 14, 512)       2048      \n",
            "_________________________________________________________________\n",
            "conv_pw_7_relu (ReLU)        (None, 14, 14, 512)       0         \n",
            "_________________________________________________________________\n",
            "conv_dw_8 (DepthwiseConv2D)  (None, 14, 14, 512)       4608      \n",
            "_________________________________________________________________\n",
            "conv_dw_8_bn (BatchNormaliza (None, 14, 14, 512)       2048      \n",
            "_________________________________________________________________\n",
            "conv_dw_8_relu (ReLU)        (None, 14, 14, 512)       0         \n",
            "_________________________________________________________________\n",
            "conv_pw_8 (Conv2D)           (None, 14, 14, 512)       262144    \n",
            "_________________________________________________________________\n",
            "conv_pw_8_bn (BatchNormaliza (None, 14, 14, 512)       2048      \n",
            "_________________________________________________________________\n",
            "conv_pw_8_relu (ReLU)        (None, 14, 14, 512)       0         \n",
            "_________________________________________________________________\n",
            "conv_dw_9 (DepthwiseConv2D)  (None, 14, 14, 512)       4608      \n",
            "_________________________________________________________________\n",
            "conv_dw_9_bn (BatchNormaliza (None, 14, 14, 512)       2048      \n",
            "_________________________________________________________________\n",
            "conv_dw_9_relu (ReLU)        (None, 14, 14, 512)       0         \n",
            "_________________________________________________________________\n",
            "conv_pw_9 (Conv2D)           (None, 14, 14, 512)       262144    \n",
            "_________________________________________________________________\n",
            "conv_pw_9_bn (BatchNormaliza (None, 14, 14, 512)       2048      \n",
            "_________________________________________________________________\n",
            "conv_pw_9_relu (ReLU)        (None, 14, 14, 512)       0         \n",
            "_________________________________________________________________\n",
            "conv_dw_10 (DepthwiseConv2D) (None, 14, 14, 512)       4608      \n",
            "_________________________________________________________________\n",
            "conv_dw_10_bn (BatchNormaliz (None, 14, 14, 512)       2048      \n",
            "_________________________________________________________________\n",
            "conv_dw_10_relu (ReLU)       (None, 14, 14, 512)       0         \n",
            "_________________________________________________________________\n",
            "conv_pw_10 (Conv2D)          (None, 14, 14, 512)       262144    \n",
            "_________________________________________________________________\n",
            "conv_pw_10_bn (BatchNormaliz (None, 14, 14, 512)       2048      \n",
            "_________________________________________________________________\n",
            "conv_pw_10_relu (ReLU)       (None, 14, 14, 512)       0         \n",
            "_________________________________________________________________\n",
            "conv_dw_11 (DepthwiseConv2D) (None, 14, 14, 512)       4608      \n",
            "_________________________________________________________________\n",
            "conv_dw_11_bn (BatchNormaliz (None, 14, 14, 512)       2048      \n",
            "_________________________________________________________________\n",
            "conv_dw_11_relu (ReLU)       (None, 14, 14, 512)       0         \n",
            "_________________________________________________________________\n",
            "conv_pw_11 (Conv2D)          (None, 14, 14, 512)       262144    \n",
            "_________________________________________________________________\n",
            "conv_pw_11_bn (BatchNormaliz (None, 14, 14, 512)       2048      \n",
            "_________________________________________________________________\n",
            "conv_pw_11_relu (ReLU)       (None, 14, 14, 512)       0         \n",
            "_________________________________________________________________\n",
            "conv_pad_12 (ZeroPadding2D)  (None, 15, 15, 512)       0         \n",
            "_________________________________________________________________\n",
            "conv_dw_12 (DepthwiseConv2D) (None, 7, 7, 512)         4608      \n",
            "_________________________________________________________________\n",
            "conv_dw_12_bn (BatchNormaliz (None, 7, 7, 512)         2048      \n",
            "_________________________________________________________________\n",
            "conv_dw_12_relu (ReLU)       (None, 7, 7, 512)         0         \n",
            "_________________________________________________________________\n",
            "conv_pw_12 (Conv2D)          (None, 7, 7, 1024)        524288    \n",
            "_________________________________________________________________\n",
            "conv_pw_12_bn (BatchNormaliz (None, 7, 7, 1024)        4096      \n",
            "_________________________________________________________________\n",
            "conv_pw_12_relu (ReLU)       (None, 7, 7, 1024)        0         \n",
            "_________________________________________________________________\n",
            "conv_dw_13 (DepthwiseConv2D) (None, 7, 7, 1024)        9216      \n",
            "_________________________________________________________________\n",
            "conv_dw_13_bn (BatchNormaliz (None, 7, 7, 1024)        4096      \n",
            "_________________________________________________________________\n",
            "conv_dw_13_relu (ReLU)       (None, 7, 7, 1024)        0         \n",
            "_________________________________________________________________\n",
            "conv_pw_13 (Conv2D)          (None, 7, 7, 1024)        1048576   \n",
            "_________________________________________________________________\n",
            "conv_pw_13_bn (BatchNormaliz (None, 7, 7, 1024)        4096      \n",
            "_________________________________________________________________\n",
            "conv_pw_13_relu (ReLU)       (None, 7, 7, 1024)        0         \n",
            "_________________________________________________________________\n",
            "global_average_pooling2d_1 ( (None, 1024)              0         \n",
            "_________________________________________________________________\n",
            "reshape_1 (Reshape)          (None, 1, 1, 1024)        0         \n",
            "_________________________________________________________________\n",
            "dropout (Dropout)            (None, 1, 1, 1024)        0         \n",
            "_________________________________________________________________\n",
            "conv_preds (Conv2D)          (None, 1, 1, 1000)        1025000   \n",
            "_________________________________________________________________\n",
            "reshape_2 (Reshape)          (None, 1000)              0         \n",
            "_________________________________________________________________\n",
            "act_softmax (Activation)     (None, 1000)              0         \n",
            "=================================================================\n",
            "Total params: 4,253,864\n",
            "Trainable params: 4,231,976\n",
            "Non-trainable params: 21,888\n",
            "_________________________________________________________________\n"
          ],
          "name": "stdout"
        }
      ]
    },
    {
      "cell_type": "markdown",
      "metadata": {
        "id": "MrTizMfWXmyX",
        "colab_type": "text"
      },
      "source": [
        "###Questions 11.1\n",
        "Inspect the printout above.\n",
        "1.  Can you identify the convolutional base of this network? (Compare to the ```conv_base``` model we used earlier.)\n",
        "2. All layers beyond the convolutional base represent the classifier. How many classes are there?\n",
        "3. So what is the size of the output of the model?\n",
        "4. Can you guess how we should interpret the output of model?\n",
        "5. The input size must be 224 by 224 pixels (you can verify for yourself). Why do you think that is? "
      ]
    },
    {
      "cell_type": "markdown",
      "metadata": {
        "id": "iRtmTVrn2U8v",
        "colab_type": "text"
      },
      "source": [
        "So, how do we modify and re-train MobileNet to work on your own data? First of all, we don't want to train CNNs from scratch, since this could take days. Secondly, we need to modify the network architecture to output, say, three class labels instead of 1000.\n",
        "\n",
        "The main hypothesis underlying transfer learning is that the network weights learned in the convolutional layers (i.e., the *encoder*) are generic and need little or no fine-tuning to work on other data sets or tasks. So in practice, we just need to replace and re-train the last layers (i.e., the *decoder*) of a pre-trained network.\n",
        "\n",
        "So let's take our convolutional base (encoder) and put a simple neural network classifier (decoder) on top of it. Your task is to figure out what the value of variable N should be."
      ]
    },
    {
      "cell_type": "code",
      "metadata": {
        "id": "K1OMmP__03MB",
        "colab_type": "code",
        "colab": {}
      },
      "source": [
        "from keras.layers import Dense,GlobalAveragePooling2D\n",
        "from keras.models import Model\n",
        "\n",
        "# Add new top layer\n",
        "x = conv_base.output\n",
        "x = GlobalAveragePooling2D()(x)\n",
        "x = Dense(1024,activation='relu')(x) #dense layer\n",
        "preds = Dense(N,activation='softmax')(x) #final layer with softmax activation\n",
        "\n",
        "# Specify model\n",
        "model = Model(inputs=conv_base.input, outputs=preds)"
      ],
      "execution_count": 0,
      "outputs": []
    },
    {
      "cell_type": "markdown",
      "metadata": {
        "id": "j7jBi1s-KbE2",
        "colab_type": "text"
      },
      "source": [
        "Note that the weights of the new dense layers are initialized with random values.\n",
        "\n",
        "###Questions 11.2\n",
        "1. What should N be in the above code block?\n",
        "2. Re-run the code block with the correct N.\n",
        "3. What does GlobalAveragePooling2D do?\n",
        "\n",
        "Hint: You can print all layers and print properties like name, type and input shape:"
      ]
    },
    {
      "cell_type": "code",
      "metadata": {
        "id": "WQZYw3UxLpL1",
        "colab_type": "code",
        "colab": {}
      },
      "source": [
        "for i,layer in enumerate(model.layers):\n",
        "  layer_name = layer.name\n",
        "  layer_type = layer.__class__.__name__\n",
        "  input_shape = layer.input_shape\n",
        "  print(f\"Layer {i} has name {layer_name} and type {layer_type}, and its input shape is {input_shape}\")\n",
        "  \n",
        "# Or use the summary funtion:\n",
        "# model.summary()"
      ],
      "execution_count": 0,
      "outputs": []
    },
    {
      "cell_type": "markdown",
      "metadata": {
        "id": "ZO_YKGvp20I2",
        "colab_type": "text"
      },
      "source": [
        "We will only be training the new dense layers that we added. Disable training for all previous layers and enable for new layers:"
      ]
    },
    {
      "cell_type": "code",
      "metadata": {
        "id": "FL_pekjgUGnz",
        "colab_type": "code",
        "outputId": "7e27b925-54e4-4708-9a08-fd033cc2688e",
        "colab": {
          "base_uri": "https://localhost:8080/",
          "height": 50
        }
      },
      "source": [
        "total_num_layers = len(model.layers)\n",
        "num_base_layers = len(conv_base.layers)\n",
        "print(f\"Total number of layers is {total_num_layers}\")\n",
        "print(f\"Number of pretrained base layers is {num_base_layers}\")\n",
        "\n",
        "for layer in model.layers[:num_base_layers]:\n",
        "    layer.trainable=False\n",
        "for layer in model.layers[num_base_layers:]:\n",
        "    layer.trainable=True"
      ],
      "execution_count": 0,
      "outputs": [
        {
          "output_type": "stream",
          "text": [
            "Total number of layers is 90\n",
            "Number of pretrained base layers is 87\n"
          ],
          "name": "stdout"
        }
      ]
    },
    {
      "cell_type": "markdown",
      "metadata": {
        "id": "1acWCuVD3xvI",
        "colab_type": "text"
      },
      "source": [
        "We are now ready to start training the model using\n",
        "- Adam optimizer\n",
        "- loss function will be categorical cross entropy\n",
        "- evaluation metric will be accuracy\n"
      ]
    },
    {
      "cell_type": "code",
      "metadata": {
        "id": "_qXOMhrGM36f",
        "colab_type": "code",
        "outputId": "16686040-b4a9-4842-9b30-94ea4c1c9af7",
        "colab": {
          "base_uri": "https://localhost:8080/",
          "height": 353
        }
      },
      "source": [
        "from keras import optimizers\n",
        "\n",
        "# Set up optimizer\n",
        "sgd_optimizer = optimizers.SGD(lr=0.001, decay=1e-6, momentum=0.9, nesterov=True)\n",
        "\n",
        "# Compile model - make it trainable\n",
        "model.compile(optimizer=sgd_optimizer,loss='categorical_crossentropy',metrics=['accuracy'])\n",
        "\n",
        "step_size_train = train_generator.n//train_generator.batch_size # Number of mini-batches per epoch (training)\n",
        "step_size_val = validation_generator.n//validation_generator.batch_size # Number of mini-batches per epoch (validation)\n",
        "\n",
        "# Train model for 10 epochs\n",
        "history = model.fit_generator(generator=train_generator,\n",
        "                   validation_data=validation_generator,\n",
        "                   validation_steps=step_size_val,\n",
        "                   steps_per_epoch=step_size_train,\n",
        "                   epochs=10)"
      ],
      "execution_count": 0,
      "outputs": [
        {
          "output_type": "stream",
          "text": [
            "Epoch 1/10\n",
            "27/27 [==============================] - 5s 175ms/step - loss: 0.7973 - acc: 0.6468 - val_loss: 0.4541 - val_acc: 0.8333\n",
            "Epoch 2/10\n",
            "27/27 [==============================] - 4s 161ms/step - loss: 0.3497 - acc: 0.8576 - val_loss: 0.3919 - val_acc: 0.8564\n",
            "Epoch 3/10\n",
            "27/27 [==============================] - 4s 158ms/step - loss: 0.2527 - acc: 0.9068 - val_loss: 0.3043 - val_acc: 0.9096\n",
            "Epoch 4/10\n",
            "27/27 [==============================] - 4s 152ms/step - loss: 0.2509 - acc: 0.9004 - val_loss: 0.3548 - val_acc: 0.8511\n",
            "Epoch 5/10\n",
            "27/27 [==============================] - 4s 147ms/step - loss: 0.1714 - acc: 0.9525 - val_loss: 0.3064 - val_acc: 0.8936\n",
            "Epoch 6/10\n",
            "27/27 [==============================] - 4s 142ms/step - loss: 0.2043 - acc: 0.9207 - val_loss: 0.4074 - val_acc: 0.8723\n",
            "Epoch 7/10\n",
            "27/27 [==============================] - 4s 138ms/step - loss: 0.1709 - acc: 0.9456 - val_loss: 0.3720 - val_acc: 0.8670\n",
            "Epoch 8/10\n",
            "27/27 [==============================] - 4s 146ms/step - loss: 0.1381 - acc: 0.9664 - val_loss: 0.5624 - val_acc: 0.8542\n",
            "Epoch 9/10\n",
            "27/27 [==============================] - 4s 164ms/step - loss: 0.1416 - acc: 0.9560 - val_loss: 0.4169 - val_acc: 0.8670\n",
            "Epoch 10/10\n",
            "27/27 [==============================] - 4s 141ms/step - loss: 0.1354 - acc: 0.9519 - val_loss: 0.2907 - val_acc: 0.8989\n"
          ],
          "name": "stdout"
        }
      ]
    },
    {
      "cell_type": "markdown",
      "metadata": {
        "id": "mdAelWXnO_tG",
        "colab_type": "text"
      },
      "source": [
        "###Questions 11.3\n",
        "Look at the outputs of the training.\n",
        "\n",
        "1. What is the difference between 'loss' and 'val_loss'?\n",
        "2. What is the difference between 'acc' and 'val_acc'?\n",
        "3. Do they behave the same, or do they behave differently? Try to explain what you see.\n",
        "\n",
        "We can plot the outpus like this:"
      ]
    },
    {
      "cell_type": "code",
      "metadata": {
        "id": "kXCR0eJO2f1f",
        "colab_type": "code",
        "outputId": "19065e48-98dd-4dfd-b70a-cce75e1e5937",
        "colab": {
          "base_uri": "https://localhost:8080/",
          "height": 34
        }
      },
      "source": [
        "print(history.history.keys())"
      ],
      "execution_count": 0,
      "outputs": [
        {
          "output_type": "stream",
          "text": [
            "dict_keys(['val_loss', 'val_acc', 'loss', 'acc'])\n"
          ],
          "name": "stdout"
        }
      ]
    },
    {
      "cell_type": "code",
      "metadata": {
        "id": "ybYR2iJOL9IK",
        "colab_type": "code",
        "outputId": "e14d19fb-b499-4062-e2df-dde96d4244fd",
        "colab": {
          "base_uri": "https://localhost:8080/",
          "height": 295
        }
      },
      "source": [
        "# summarize history for accuracy\n",
        "plt.plot(history.history['acc'])\n",
        "plt.plot(history.history['val_acc'])\n",
        "plt.title('model accuracy')\n",
        "plt.ylabel('accuracy')\n",
        "plt.xlabel('epoch')\n",
        "plt.legend(['train', 'test'], loc='upper left')\n",
        "plt.show()"
      ],
      "execution_count": 0,
      "outputs": [
        {
          "output_type": "display_data",
          "data": {
            "image/png": "[encoded data removed]",
            "text/plain": [
              "<Figure size 432x288 with 1 Axes>"
            ]
          },
          "metadata": {
            "tags": []
          }
        }
      ]
    },
    {
      "cell_type": "code",
      "metadata": {
        "id": "fRXXNvYzLuWR",
        "colab_type": "code",
        "outputId": "36740afc-4732-412d-dec2-8d8f4b1a2451",
        "colab": {
          "base_uri": "https://localhost:8080/",
          "height": 295
        }
      },
      "source": [
        "plt.plot(history.history['loss'])\n",
        "plt.plot(history.history['val_loss'])\n",
        "plt.title('model loss')\n",
        "plt.ylabel('loss')\n",
        "plt.xlabel('epoch')\n",
        "plt.legend(['train', 'test'], loc='upper left')\n",
        "plt.show()"
      ],
      "execution_count": 0,
      "outputs": [
        {
          "output_type": "display_data",
          "data": {
            "image/png": "[encoded data removed]",
            "text/plain": [
              "<Figure size 432x288 with 1 Axes>"
            ]
          },
          "metadata": {
            "tags": []
          }
        }
      ]
    },
    {
      "cell_type": "markdown",
      "metadata": {
        "id": "TtSiBK3DURiC",
        "colab_type": "text"
      },
      "source": [
        "###Ideas for further work\n",
        "1. In the above example we have not optimized the pre-trained weights of the conolutional base. To improve performance you could enable training in all layers (including the convolutoinal base) and re-train the network. This is called *fine-tuning*.\n",
        "2. Another way to improve model performance is by *data augmentation*. Have a look at the documentation for the [image generator class](https://keras.io/preprocessing/image/) and see what kind of augmentation is possible. Why do you think data augmentation helps improve the performance of your model?\n",
        "3. Try repeating the above experiments on the MNIST dataset. Take a look here: https://keras.io/examples/mnist_cnn/"
      ]
    },
    {
      "cell_type": "markdown",
      "metadata": {
        "id": "MBQU1wAPD4-w",
        "colab_type": "text"
      },
      "source": [
        "##Optional task: Deploying the model\n",
        "Here is how to deploy the model and integrate with OpenCV."
      ]
    },
    {
      "cell_type": "code",
      "metadata": {
        "id": "LO1p9_2LWUMH",
        "colab_type": "code",
        "outputId": "3f0e8608-0c1c-4f98-e8a1-ae0de3f9e70b",
        "colab": {
          "base_uri": "https://localhost:8080/",
          "height": 302
        }
      },
      "source": [
        "import cv2\n",
        "\n",
        "# Pick first image of first class\n",
        "filelist = [x for x in (p/classes[0]).iterdir() if x.is_file()]\n",
        "img_path = str(filelist[0])\n",
        "print(f\"File path: {img_path}\")\n",
        "\n",
        "# Load and display with OpenCV\n",
        "img = cv2.imread(img_path)\n",
        "b,g,r = cv2.split(img)\n",
        "img = cv2.merge((r,g,b))\n",
        "plt.imshow(img)"
      ],
      "execution_count": 0,
      "outputs": [
        {
          "output_type": "stream",
          "text": [
            "File path: /content/gdrive/My Drive/data/cat/00000001.jpg\n"
          ],
          "name": "stdout"
        },
        {
          "output_type": "execute_result",
          "data": {
            "text/plain": [
              "<matplotlib.image.AxesImage at 0x7f1fce857208>"
            ]
          },
          "metadata": {
            "tags": []
          },
          "execution_count": 63
        },
        {
          "output_type": "display_data",
          "data": {
            "image/png": "[encoded data removed]",
            "text/plain": [
              "<Figure size 432x288 with 1 Axes>"
            ]
          },
          "metadata": {
            "tags": []
          }
        }
      ]
    },
    {
      "cell_type": "markdown",
      "metadata": {
        "id": "TZMwJJ1w_YVW",
        "colab_type": "text"
      },
      "source": [
        "Now, make sure that the image shape and the pixel intensity range is as expected by the network:"
      ]
    },
    {
      "cell_type": "code",
      "metadata": {
        "id": "THYIJ5n2fX_u",
        "colab_type": "code",
        "outputId": "a454e0cd-2969-4b0c-92a8-300fdcbb0d27",
        "colab": {
          "base_uri": "https://localhost:8080/",
          "height": 34
        }
      },
      "source": [
        "img = cv2.resize(img, (120, 120))\n",
        "img = (img[...,::-1].astype(np.float32))\n",
        "img /= 127.5\n",
        "img -= 1.\n",
        "img = np.expand_dims(img,0)\n",
        "print(img.shape)"
      ],
      "execution_count": 0,
      "outputs": [
        {
          "output_type": "stream",
          "text": [
            "(1, 120, 120, 3)\n"
          ],
          "name": "stdout"
        }
      ]
    },
    {
      "cell_type": "markdown",
      "metadata": {
        "id": "52pNra-fRXRk",
        "colab_type": "text"
      },
      "source": [
        "Run the image through the network:"
      ]
    },
    {
      "cell_type": "code",
      "metadata": {
        "id": "Jeg17ghAg5H4",
        "colab_type": "code",
        "outputId": "f5c5516b-6aa7-41b7-f2a6-e02f123b6661",
        "colab": {
          "base_uri": "https://localhost:8080/",
          "height": 34
        }
      },
      "source": [
        "pred = model.predict(img)[0]\n",
        "ind = (-pred).argsort()[:3]\n",
        "latex = [(classes[x],pred[x]) for x in ind]\n",
        "print(latex)"
      ],
      "execution_count": 0,
      "outputs": [
        {
          "output_type": "stream",
          "text": [
            "[('cat', 0.9967332), ('dog', 0.0032662784), ('horse', 5.7683786e-07)]\n"
          ],
          "name": "stdout"
        }
      ]
    },
    {
      "cell_type": "markdown",
      "metadata": {
        "id": "9CLHhqpL_n8M",
        "colab_type": "text"
      },
      "source": [
        "##Optional task: Exporting to TensorFlow JS and hosting a web service on GitHub\n",
        "If you want to, you can deploy your model and make a nice web service like this one:\n",
        "https://klaverhenrik.github.io/transferlearning/\n",
        "\n",
        "To do that, first export your model to [TensorFlow JS](https://www.tensorflow.org/js) and download all the necessary files as a zip file:"
      ]
    },
    {
      "cell_type": "code",
      "metadata": {
        "id": "YTlAmfdLfUf-",
        "colab_type": "code",
        "outputId": "5e84465a-b1c0-4d20-fdea-eece660fff39",
        "colab": {
          "base_uri": "https://localhost:8080/",
          "height": 34
        }
      },
      "source": [
        "!mkdir model\n",
        "!tensorflowjs_converter --input_format keras keras.h5 model/"
      ],
      "execution_count": 0,
      "outputs": [
        {
          "output_type": "stream",
          "text": [
            "/bin/bash: tensorflowjs_converter: command not found\n"
          ],
          "name": "stdout"
        }
      ]
    },
    {
      "cell_type": "code",
      "metadata": {
        "id": "bt2oddBTsbEr",
        "colab_type": "code",
        "colab": {}
      },
      "source": [
        "with open('class_names.txt', 'w') as file_handler:\n",
        "    for item in classes:\n",
        "        file_handler.write(\"{}\\n\".format(item))"
      ],
      "execution_count": 0,
      "outputs": []
    },
    {
      "cell_type": "code",
      "metadata": {
        "id": "oPFHvB6qAEWP",
        "colab_type": "code",
        "colab": {}
      },
      "source": [
        "with open('my_classes.js','w') as file_handler:\n",
        "  file_handler.write(\"export const IMAGENET_CLASSES = {\\n\")\n",
        "  for ix, item in enumerate(classes):\n",
        "    file_handler.write(\"  \" + str(ix) + \": \\'\" + item + \"\\'\")\n",
        "    if ix < len(classes)-1:\n",
        "      file_handler.write(\",\")\n",
        "    file_handler.write(\"\\n\")\n",
        "  file_handler.write(\"};\")"
      ],
      "execution_count": 0,
      "outputs": []
    },
    {
      "cell_type": "code",
      "metadata": {
        "id": "OmQ7JuCpuBpo",
        "colab_type": "code",
        "outputId": "4158f8a0-89fb-4801-dceb-4dfe9989ac0b",
        "colab": {
          "base_uri": "https://localhost:8080/",
          "height": 794
        }
      },
      "source": [
        "!pip install tensorflowjs "
      ],
      "execution_count": 0,
      "outputs": [
        {
          "output_type": "stream",
          "text": [
            "Collecting tensorflowjs\n",
            "  Downloading https://files.pythonhosted.org/packages/e7/6a/b8da7692e9a289edbb83f4693ceb2c0be270ad30a5aee7438627e562ff95/tensorflowjs-1.2.6-py3-none-any.whl\n",
            "Requirement already satisfied: tensorflow==1.14.0 in /usr/local/lib/python3.6/dist-packages (from tensorflowjs) (1.14.0)\n",
            "Requirement already satisfied: numpy==1.16.4 in /usr/local/lib/python3.6/dist-packages (from tensorflowjs) (1.16.4)\n",
            "Collecting six==1.11.0 (from tensorflowjs)\n",
            "  Downloading https://files.pythonhosted.org/packages/67/4b/141a581104b1f6397bfa78ac9d43d8ad29a7ca43ea90a2d863fe3056e86a/six-1.11.0-py2.py3-none-any.whl\n",
            "Requirement already satisfied: h5py==2.8.0 in /usr/local/lib/python3.6/dist-packages (from tensorflowjs) (2.8.0)\n",
            "Collecting keras==2.2.4 (from tensorflowjs)\n",
            "\u001b[?25l  Downloading https://files.pythonhosted.org/packages/5e/10/aa32dad071ce52b5502266b5c659451cfd6ffcbf14e6c8c4f16c0ff5aaab/Keras-2.2.4-py2.py3-none-any.whl (312kB)\n",
            "\u001b[K     |████████████████████████████████| 317kB 7.9MB/s \n",
            "\u001b[?25hRequirement already satisfied: tensorflow-hub==0.5.0 in /usr/local/lib/python3.6/dist-packages (from tensorflowjs) (0.5.0)\n",
            "Requirement already satisfied: google-pasta>=0.1.6 in /usr/local/lib/python3.6/dist-packages (from tensorflow==1.14.0->tensorflowjs) (0.1.7)\n",
            "Requirement already satisfied: termcolor>=1.1.0 in /usr/local/lib/python3.6/dist-packages (from tensorflow==1.14.0->tensorflowjs) (1.1.0)\n",
            "Requirement already satisfied: absl-py>=0.7.0 in /usr/local/lib/python3.6/dist-packages (from tensorflow==1.14.0->tensorflowjs) (0.7.1)\n",
            "Requirement already satisfied: astor>=0.6.0 in /usr/local/lib/python3.6/dist-packages (from tensorflow==1.14.0->tensorflowjs) (0.8.0)\n",
            "Requirement already satisfied: grpcio>=1.8.6 in /usr/local/lib/python3.6/dist-packages (from tensorflow==1.14.0->tensorflowjs) (1.15.0)\n",
            "Requirement already satisfied: wheel>=0.26 in /usr/local/lib/python3.6/dist-packages (from tensorflow==1.14.0->tensorflowjs) (0.33.6)\n",
            "Requirement already satisfied: gast>=0.2.0 in /usr/local/lib/python3.6/dist-packages (from tensorflow==1.14.0->tensorflowjs) (0.2.2)\n",
            "Requirement already satisfied: tensorflow-estimator<1.15.0rc0,>=1.14.0rc0 in /usr/local/lib/python3.6/dist-packages (from tensorflow==1.14.0->tensorflowjs) (1.14.0)\n",
            "Requirement already satisfied: protobuf>=3.6.1 in /usr/local/lib/python3.6/dist-packages (from tensorflow==1.14.0->tensorflowjs) (3.7.1)\n",
            "Requirement already satisfied: wrapt>=1.11.1 in /usr/local/lib/python3.6/dist-packages (from tensorflow==1.14.0->tensorflowjs) (1.11.2)\n",
            "Requirement already satisfied: tensorboard<1.15.0,>=1.14.0 in /usr/local/lib/python3.6/dist-packages (from tensorflow==1.14.0->tensorflowjs) (1.14.0)\n",
            "Requirement already satisfied: keras-applications>=1.0.6 in /usr/local/lib/python3.6/dist-packages (from tensorflow==1.14.0->tensorflowjs) (1.0.8)\n",
            "Requirement already satisfied: keras-preprocessing>=1.0.5 in /usr/local/lib/python3.6/dist-packages (from tensorflow==1.14.0->tensorflowjs) (1.1.0)\n",
            "Requirement already satisfied: scipy>=0.14 in /usr/local/lib/python3.6/dist-packages (from keras==2.2.4->tensorflowjs) (1.3.1)\n",
            "Requirement already satisfied: pyyaml in /usr/local/lib/python3.6/dist-packages (from keras==2.2.4->tensorflowjs) (3.13)\n",
            "Requirement already satisfied: setuptools in /usr/local/lib/python3.6/dist-packages (from protobuf>=3.6.1->tensorflow==1.14.0->tensorflowjs) (41.2.0)\n",
            "Requirement already satisfied: markdown>=2.6.8 in /usr/local/lib/python3.6/dist-packages (from tensorboard<1.15.0,>=1.14.0->tensorflow==1.14.0->tensorflowjs) (3.1.1)\n",
            "Requirement already satisfied: werkzeug>=0.11.15 in /usr/local/lib/python3.6/dist-packages (from tensorboard<1.15.0,>=1.14.0->tensorflow==1.14.0->tensorflowjs) (0.15.5)\n",
            "\u001b[31mERROR: google-colab 1.0.0 has requirement six~=1.12.0, but you'll have six 1.11.0 which is incompatible.\u001b[0m\n",
            "\u001b[31mERROR: datascience 0.10.6 has requirement folium==0.2.1, but you'll have folium 0.8.3 which is incompatible.\u001b[0m\n",
            "\u001b[31mERROR: albumentations 0.1.12 has requirement imgaug<0.2.7,>=0.2.5, but you'll have imgaug 0.2.9 which is incompatible.\u001b[0m\n",
            "Installing collected packages: six, keras, tensorflowjs\n",
            "  Found existing installation: six 1.12.0\n",
            "    Uninstalling six-1.12.0:\n",
            "      Successfully uninstalled six-1.12.0\n",
            "  Found existing installation: Keras 2.2.5\n",
            "    Uninstalling Keras-2.2.5:\n",
            "      Successfully uninstalled Keras-2.2.5\n",
            "Successfully installed keras-2.2.4 six-1.11.0 tensorflowjs-1.2.6\n"
          ],
          "name": "stdout"
        },
        {
          "output_type": "display_data",
          "data": {
            "application/vnd.colab-display-data+json": {
              "pip_warning": {
                "packages": [
                  "keras",
                  "six"
                ]
              }
            }
          },
          "metadata": {
            "tags": []
          }
        }
      ]
    },
    {
      "cell_type": "code",
      "metadata": {
        "id": "ZrZqydUCuDx9",
        "colab_type": "code",
        "colab": {}
      },
      "source": [
        "model.save('keras.h5')"
      ],
      "execution_count": 0,
      "outputs": []
    },
    {
      "cell_type": "code",
      "metadata": {
        "id": "bC-as4WvuF8Y",
        "colab_type": "code",
        "outputId": "f290937e-b2b1-4525-920d-ce7e2f982734",
        "colab": {
          "base_uri": "https://localhost:8080/",
          "height": 34
        }
      },
      "source": [
        "!mkdir model\n",
        "!tensorflowjs_converter --input_format keras keras.h5 model/"
      ],
      "execution_count": 0,
      "outputs": [
        {
          "output_type": "stream",
          "text": [
            "mkdir: cannot create directory ‘model’: File exists\n"
          ],
          "name": "stdout"
        }
      ]
    },
    {
      "cell_type": "code",
      "metadata": {
        "id": "U7AcbCmLuPDs",
        "colab_type": "code",
        "colab": {}
      },
      "source": [
        "!cp class_names.txt model/class_names.txt\n",
        "!cp my_classes.js model/my_classes.js"
      ],
      "execution_count": 0,
      "outputs": []
    },
    {
      "cell_type": "code",
      "metadata": {
        "id": "ZRVc3zCGuZSg",
        "colab_type": "code",
        "outputId": "7d52b7bb-7801-4c94-a761-f92a2e43c509",
        "colab": {
          "base_uri": "https://localhost:8080/",
          "height": 168
        }
      },
      "source": [
        "!zip -r model.zip model "
      ],
      "execution_count": 0,
      "outputs": [
        {
          "output_type": "stream",
          "text": [
            "  adding: model/ (stored 0%)\n",
            "  adding: model/group1-shard4of5.bin (deflated 8%)\n",
            "  adding: model/model.json (deflated 95%)\n",
            "  adding: model/group1-shard5of5.bin (deflated 8%)\n",
            "  adding: model/group1-shard1of5.bin (deflated 7%)\n",
            "  adding: model/class_names.txt (stored 0%)\n",
            "  adding: model/group1-shard3of5.bin (deflated 7%)\n",
            "  adding: model/group1-shard2of5.bin (deflated 7%)\n",
            "  adding: model/my_classes.js (deflated 7%)\n"
          ],
          "name": "stdout"
        }
      ]
    },
    {
      "cell_type": "code",
      "metadata": {
        "id": "ij1jeyvEubZj",
        "colab_type": "code",
        "colab": {}
      },
      "source": [
        "from google.colab import files\n",
        "files.download('model.zip')"
      ],
      "execution_count": 0,
      "outputs": []
    },
    {
      "cell_type": "markdown",
      "metadata": {
        "id": "PrutFOa8TQCT",
        "colab_type": "text"
      },
      "source": [
        "Now that you have converted you model to TensorFlow JS and downloaded, you can clone [this git repo](https://github.com/klaverhenrik/klaverhenrik.github.io/tree/master/transferlearning) and copy the model files into your own copy of the repo.\n",
        "\n",
        "The webpage can be hosted on GitHub using [GitHub Pages](https://pages.github.com/)."
      ]
    }
  ]
}